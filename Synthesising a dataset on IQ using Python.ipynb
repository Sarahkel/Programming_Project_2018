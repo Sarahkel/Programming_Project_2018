{
 "cells": [
  {
   "cell_type": "markdown",
   "metadata": {},
   "source": [
    "# Structure"
   ]
  },
  {
   "cell_type": "markdown",
   "metadata": {},
   "source": [
    "# Introduction"
   ]
  },
  {
   "cell_type": "markdown",
   "metadata": {},
   "source": [
    "In this Jupyter workbook I will walk through the process of synthesising a dataset using Python. The dataset will aim to simulate a real-world phenomenon across at least 100 different datapoints and at least 4 different variables. The challenge lies not only in understanding how to use Python and available packages to synthesise a dataset but also in gaining a deep understanding of the data this project aims to simulate.\n",
    "\n",
    "The variables for which the datapoints are created will be investigated to determine their type and likely distributions and also how they relate to one-another to ensure a product that is as close to the real-life phenomenon as possible.\n",
    "\n",
    "## General Considerations\n",
    "\n",
    "One might ask: Why synthesise a dataset if I can simply go online to find data? A fairly straight-forward way to simulate a dataset could be to take an existing dataset, analyse its statistics and use the data on values, minimum, maximum, average, median, correlations and regressions to feed into a function that will either create the exact same dataset or randomise the dataset along the same base statistics. In fact, there are a number of Website and Apps which make this process easier.\n",
    "\n",
    "\n",
    "However, researching different approaches on how to synthesise data brings forward many sources that are related to machine learning, deep learning and testing calculations as well as applications. Synthesised data can be used to test or develop applications in situations where collection of real data would delay development because of the time and resources it would require. (1) It is not difficult to imagine such a situation in a corporate environment. Furthermore, it can serve as a basis to train a machine learning algorithm on. (1, wikipedia)\n",
    "\n",
    "[tbc]\n",
    "\n",
    "Therefore, this project will attempt to model a dataset not recreating a specific already existing dataset but after assumptions and insights that were derived from researching the real-life-phenomenon.\n",
    "\n",
    "\n",
    "(1) https://medium.com/@maxbendick/synthesizing-deep-learning-training-data-db100de1b7f0\n",
    "\n",
    "## (Preliminary) Overview\n",
    "\n",
    "This project will more specifically aim to synthesise a dataset around IQ score. It will aim to create a dataset of 100 datapoints, corresponding to 100 people across the variables: IQ, Gender, Age and Income.\n",
    "\n",
    "# Real-life phenomenon: IQ Score\n",
    "\n",
    "IQ, Intelligence Quotient, lends itself fabulously to an exploration for a data scientist. It is a well-researched area, with a lot of studies to draw inspiration as well as data from. The name itself suggests its mathematical nature and statistics plays a significant role in the field of psychology. \n",
    "\n",
    "IQ is not the same as intelligence, even though a point can be made that both are closely correlated. While intelligence refers to ___ the IQ of a person is the result they scored at a specific point in time and cannot be assigned without an IQ test. (1) There is no one IQ test and the tests conducted can vary depending on the underlying definition of intelligence, which has sparked discussions around the validity of the tests. (2) While certainly an interesting field of study, this project is does not aim to discuss the validity of IQ but is more concerned with the scores and how studies have suggested correlations with other areas of life.\n",
    "\n",
    "(1)https://books.google.ie/books?id=2G34CgAAQBAJ&pg=PA210&dq=what+is+IQ+psychology+introduction&hl=de&sa=X&ved=0ahUKEwiW8I-LzIvfAhXOUBUIHW0MAUQQ6AEIVDAH#v=onepage&q=what%20is%20IQ%20psychology%20introduction&f=false, 210\n",
    "\n",
    "(2)https://books.google.ie/books?id=gsqFAgAAQBAJ&pg=PT88&dq=what+is+IQ+psychology+introduction&hl=de&sa=X&ved=0ahUKEwiW8I-LzIvfAhXOUBUIHW0MAUQQ6AEIWzAI#v=onepage&q=what%20is%20IQ%20psychology%20introduction&f=false, chapter 7\n",
    "\n",
    "\n",
    "\n",
    "# The Variables\n",
    "\n",
    "A big part of the appeal of determining people's IQ score is to see if it stands in relation to other attributes of a person's life. Researchers have found a number of interesting connections, [this article](https://www.vox.com/2016/5/24/11723182/iq-test-intelligence) displays only some of them. For example:\n",
    "\n",
    "> Having a higher IQ protects you from death\n",
    "\n",
    "> IQ is correlated with career success and wealth, but not necessarily happiness\n",
    "\n",
    "> You're probably stuck with what you got\n",
    "\n",
    "> Most people have average intelligence\n",
    "\n",
    "While often a heated discussion, latest data suggests that men and women show no significant difference in IQ scores overall. (1)\n",
    "\n",
    "(1) https://www.psychologytoday.com/us/blog/beautiful-minds/201207/men-women-and-iq-setting-the-record-straight\n",
    "\n",
    "## Putting the findings into practise\n"
   ]
  },
  {
   "cell_type": "markdown",
   "metadata": {},
   "source": [
    "Considering the vast amount of information around IQ it seems tangible to model a realistic dataset of 100 people around their IQ score. Python has in-built commands and available packages that allow to quickly produce random numbers. See also my previous assignment on the functionalities of the numpy.random package. The following is a quick demonstration of how these functions can be used to create a dataset:"
   ]
  },
  {
   "cell_type": "code",
   "execution_count": 5,
   "metadata": {},
   "outputs": [
    {
     "name": "stdout",
     "output_type": "stream",
     "text": [
      "      IQ  Age  Income Gender\n",
      "0    144   12   37138      m\n",
      "1    118   79   38179      m\n",
      "2    126   69   26247      m\n",
      "3     67    7   20871      m\n",
      "4    128   64   45521      w\n",
      "5    144   52   21588      w\n",
      "6     67   33   46292      w\n",
      "7    121   57   39138      w\n",
      "8    147   44   34351      m\n",
      "9     67   11   18294      m\n",
      "10   104   84   17828      w\n",
      "11   129   89   46336      m\n",
      "12   118   39   45781      m\n",
      "13   123   24   53406      m\n",
      "14    81   12   44556      m\n",
      "15    78    8   18134      m\n",
      "16   132   34   50362      m\n",
      "17   124   15   26792      w\n",
      "18    89   74   42963      w\n",
      "19    74   17   17496      w\n",
      "20   105    7   44394      w\n",
      "21    73   85   19175      w\n",
      "22    89   81   17021      w\n",
      "23    90   42   20065      w\n",
      "24   112   18   35624      m\n",
      "25    65   13   25732      m\n",
      "26   115   64   35644      m\n",
      "27   146   38   36139      w\n",
      "28   107   71   38178      m\n",
      "29   106   34   35245      m\n",
      "..   ...  ...     ...    ...\n",
      "970   87   56   27016      m\n",
      "971  131   53   26140      m\n",
      "972  115   26   37353      m\n",
      "973  134   56   42997      m\n",
      "974  131   49   34844      m\n",
      "975   92   60   20107      m\n",
      "976  117   80   45690      m\n",
      "977  115   34   25119      w\n",
      "978  123   23   33847      w\n",
      "979   71   56   40248      m\n",
      "980   68   66   45393      m\n",
      "981   74   50   44067      w\n",
      "982   78   19   40361      w\n",
      "983  149   49   27601      m\n",
      "984   73   88   49738      m\n",
      "985   65   23   27602      w\n",
      "986  140   21   19814      w\n",
      "987  127   82   49768      m\n",
      "988  118   21   35592      w\n",
      "989  101   60   18360      m\n",
      "990  111   80   49432      m\n",
      "991  132   85   25219      m\n",
      "992   76   79   49182      m\n",
      "993   77   49   43923      m\n",
      "994   70   50   41117      w\n",
      "995   84   56   29847      m\n",
      "996  149   69   28858      w\n",
      "997   92   52   41852      m\n",
      "998  120   42   53644      m\n",
      "999  114   31   24760      m\n",
      "\n",
      "[1000 rows x 4 columns]\n"
     ]
    },
    {
     "data": {
      "text/html": [
       "<div>\n",
       "<style scoped>\n",
       "    .dataframe tbody tr th:only-of-type {\n",
       "        vertical-align: middle;\n",
       "    }\n",
       "\n",
       "    .dataframe tbody tr th {\n",
       "        vertical-align: top;\n",
       "    }\n",
       "\n",
       "    .dataframe thead th {\n",
       "        text-align: right;\n",
       "    }\n",
       "</style>\n",
       "<table border=\"1\" class=\"dataframe\">\n",
       "  <thead>\n",
       "    <tr style=\"text-align: right;\">\n",
       "      <th></th>\n",
       "      <th>IQ</th>\n",
       "      <th>Age</th>\n",
       "      <th>Income</th>\n",
       "    </tr>\n",
       "  </thead>\n",
       "  <tbody>\n",
       "    <tr>\n",
       "      <th>IQ</th>\n",
       "      <td>1.000000</td>\n",
       "      <td>-0.030378</td>\n",
       "      <td>-0.003547</td>\n",
       "    </tr>\n",
       "    <tr>\n",
       "      <th>Age</th>\n",
       "      <td>-0.030378</td>\n",
       "      <td>1.000000</td>\n",
       "      <td>0.053464</td>\n",
       "    </tr>\n",
       "    <tr>\n",
       "      <th>Income</th>\n",
       "      <td>-0.003547</td>\n",
       "      <td>0.053464</td>\n",
       "      <td>1.000000</td>\n",
       "    </tr>\n",
       "  </tbody>\n",
       "</table>\n",
       "</div>"
      ],
      "text/plain": [
       "              IQ       Age    Income\n",
       "IQ      1.000000 -0.030378 -0.003547\n",
       "Age    -0.030378  1.000000  0.053464\n",
       "Income -0.003547  0.053464  1.000000"
      ]
     },
     "execution_count": 5,
     "metadata": {},
     "output_type": "execute_result"
    }
   ],
   "source": [
    "#The following code uses numpy and pandas to generate random values that can be put and displayed as a pandas dataframe\n",
    "import pandas as pd\n",
    "import numpy as np\n",
    "\n",
    "#creating empty lists for the different columns\n",
    "listIQ = []\n",
    "listAge = []\n",
    "listIncome = []\n",
    "listGender = []\n",
    "\n",
    "#determining size of the dataset/lists -  - bigger to ensure distributions are well visible\n",
    "p = 1000\n",
    "\n",
    "#assuming IQ values can fall between 65 and 150 and appending the random value to the IQ list\n",
    "for i in range(p):\n",
    "    x = np.random.randint(65,150)\n",
    "    listIQ.append(x)\n",
    "\n",
    "#assuming an age range between which the IQ test could have been taken\n",
    "for i in range(p):\n",
    "    x = np.random.randint(5,90)\n",
    "    listAge.append(x)\n",
    "\n",
    "#assuming an income range\n",
    "for i in range(p):\n",
    "    x = np.random.randint(15000,55000)\n",
    "    listIncome.append(x)\n",
    "\n",
    "    #gender\n",
    "for i in range(p):\n",
    "    gender = ['m', 'w']\n",
    "    x = np.random.choice(gender)\n",
    "    listGender.append(x)\n",
    "\n",
    "#pull data together\n",
    "#see pandas documentation:\n",
    "#https://pandas.pydata.org/pandas-docs/version/0.23.4/generated/pandas.DataFrame.html\n",
    "d = {'IQ': listIQ, 'Age': listAge, 'Income': listIncome, 'Gender': listGender}\n",
    "df = pd.DataFrame(data=d)\n",
    "print(df)\n",
    "\n",
    "df.corr()"
   ]
  },
  {
   "cell_type": "markdown",
   "metadata": {},
   "source": [
    "However, even if generating the dataset a few times over, a flaw with this method emerges: While it does reliably generate numbers within the specified limits, there is no consistency with real-world scenarios. The Correlations between the values can change dramatically and it is difficult to draw meaningful conclusions from the dataset. It is unusable for simulation purposes.A look at the graphs below explains why. As per the design of the commands in numpy, the samples were drawn from uniform distributions, meaning, that every outcome is equally likely to occur. While this is arguably acceptable for the variable of Gender in the dataset, it has been established that many natural phenomena, such as height and also IQ resemble a normal or Gaussian distribution."
   ]
  },
  {
   "cell_type": "code",
   "execution_count": 8,
   "metadata": {},
   "outputs": [
    {
     "data": {
      "image/png": "[encoded data removed]",
      "text/plain": [
       "<Figure size 432x288 with 1 Axes>"
      ]
     },
     "metadata": {
      "needs_background": "light"
     },
     "output_type": "display_data"
    },
    {
     "data": {
      "image/png": "[encoded data removed]",
      "text/plain": [
       "<Figure size 432x288 with 1 Axes>"
      ]
     },
     "metadata": {
      "needs_background": "light"
     },
     "output_type": "display_data"
    },
    {
     "data": {
      "image/png": "[encoded data removed]",
      "text/plain": [
       "<Figure size 432x288 with 1 Axes>"
      ]
     },
     "metadata": {
      "needs_background": "light"
     },
     "output_type": "display_data"
    },
    {
     "data": {
      "image/png": "[encoded data removed]",
      "text/plain": [
       "<Figure size 432x288 with 1 Axes>"
      ]
     },
     "metadata": {
      "needs_background": "light"
     },
     "output_type": "display_data"
    }
   ],
   "source": [
    "import matplotlib.pyplot as plt\n",
    "\n",
    "plt.hist(listIQ)\n",
    "plt.xlabel('\"IQ\"')\n",
    "plt.ylabel('No. of Samples')\n",
    "plt.title('Histogram of samples drawn from numpy.random.randint')\n",
    "plt.show()\n",
    "plt.hist(listGender)\n",
    "plt.xlabel('\"Gender\"')\n",
    "plt.ylabel('No. of Samples')\n",
    "plt.title('Histogram of samples drawn from numpy.random.randint')\n",
    "plt.show()\n",
    "plt.hist(listIncome)\n",
    "plt.xlabel('\"Income\"')\n",
    "plt.ylabel('No. of Samples')\n",
    "plt.title('Histogram of samples drawn from numpy.random.randint')\n",
    "plt.show()\n",
    "plt.hist(listAge)\n",
    "plt.xlabel('\"Age\"')\n",
    "plt.ylabel('No. of Samples')\n",
    "plt.title('Histogram of samples drawn from numpy.random.randint')\n",
    "plt.show()"
   ]
  },
  {
   "cell_type": "markdown",
   "metadata": {},
   "source": [
    "Compare the above graph for IQ to the \"bell curve\" below that is characteristic of a normal distribition. IQ is distributed normally across a population. The median of the IQ distribution is 100 with a standard deviation of 15 and the possible scores fall between 40 and 160. (1) An IQ scale is ordinal data, meaning that the datapoints can be ranked an are naturally ordered (f.ex. from low IQ to high IQ) (2). Looking at this distribution, we can see that the majority of people will fall around the median or average IQ scores.\n",
    "\n",
    "<img src=\"https://upload.wikimedia.org/wikipedia/commons/thumb/3/39/IQ_distribution.svg/2000px-IQ_distribution.svg.png\" width=\"420\">\n",
    "Normalized IQ distribution with mean 100 and standard deviation 15 (1).\n",
    "\n",
    "The distribution of age looks very different again: \n",
    "<img src=\"https://www.indexmundi.com/graphs/population-pyramids/ireland-population-pyramid-2016.gif\" width=\"420\">\n",
    "Population pyramid, Ireland 2016 (3)\n",
    "\n",
    "(1) https://en.wikipedia.org/wiki/Intelligence_quotient\n",
    "\n",
    "(2) https://en.wikipedia.org/wiki/Ordinal_data\n",
    "\n",
    "(3) https://www.indexmundi.com/ireland/age_structure.html"
   ]
  }
 ],
 "metadata": {
  "kernelspec": {
   "display_name": "Python 3",
   "language": "python",
   "name": "python3"
  },
  "language_info": {
   "codemirror_mode": {
    "name": "ipython",
    "version": 3
   },
   "file_extension": ".py",
   "mimetype": "text/x-python",
   "name": "python",
   "nbconvert_exporter": "python",
   "pygments_lexer": "ipython3",
   "version": "3.7.0"
  }
 },
 "nbformat": 4,
 "nbformat_minor": 2
}
