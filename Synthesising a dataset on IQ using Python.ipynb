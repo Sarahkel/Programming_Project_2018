{
 "cells": [
  {
   "cell_type": "markdown",
   "metadata": {},
   "source": [
    "# Structure"
   ]
  },
  {
   "cell_type": "markdown",
   "metadata": {},
   "source": [
    "# Introduction"
   ]
  },
  {
   "cell_type": "markdown",
   "metadata": {},
   "source": [
    "In this Jupyter workbook I will walk through the process of synthesising a dataset using Python. The dataset will aim to simulate a real-world phenomenon across at least 100 different datapoints and at least 4 different variables. The challenge lies not only in understanding how to use Python and available packages to synthesise a dataset but also in gaining a deep understanding of the data this project aims to simulate.\n",
    "\n",
    "The variables for which the datapoints are created will be investigated to determine their type and likely distributions and also how they relate to one-another to ensure a product that is as close to the real-life phenomenon as possible.\n",
    "\n",
    "## General Considerations\n",
    "\n",
    "One might ask: Why synthesise a dataset if I can simply go online to find data? A fairly straight-forward way to simulate a dataset could be to take an existing dataset, analyse its statistics and use the data on values, minimum, maximum, average, median, correlations and regressions to feed into a function that will either create the exact same dataset or randomise the dataset along the same base statistics. In fact, there are a number of Website and Apps which make this process easier.\n",
    "\n",
    "\n",
    "However, researching different approaches on how to synthesise data brings forward many sources that are related to machine learning, deep learning and testing calculations as well as applications. Synthesised data can be used to test or develop applications in situations where collection of real data would delay development because of the time and resources it would require. (1) It is not difficult to imagine such a situation in a corporate environment. Furthermore, it can serve as a basis to train a machine learning algorithm on. (1, wikipedia)\n",
    "\n",
    "[tbc]\n",
    "\n",
    "Therefore, this project will attempt to model a dataset not recreating a specific already existing dataset but after assumptions and insights that were derived from researching the real-life-phenomenon.\n",
    "\n",
    "\n",
    "(1) https://medium.com/@maxbendick/synthesizing-deep-learning-training-data-db100de1b7f0\n",
    "\n",
    "## (Preliminary) Overview\n",
    "\n",
    "This project will more specifically aim to synthesise a dataset around IQ score. It will aim to create a dataset of 100 datapoints, corresponding to 100 people across the variables: IQ, Gender, Age and Income.\n",
    "\n",
    "# Real-life phenomenon: IQ Score\n",
    "\n",
    "IQ, Intelligence Quotient, lends itself fabulously to an exploration for a data scientist. It is a well-researched area, with a lot of studies to draw inspiration as well as data from. The name itself suggests its mathematical nature and statistics plays a significant role in the field of psychology. \n",
    "\n",
    "IQ is not the same as intelligence, even though a point can be made that both are closely correlated. While intelligence refers to ___ the IQ of a person is the result they scored at a specific point in time and cannot be assigned without an IQ test. (1) There is no one IQ test and the tests conducted can vary depending on the underlying definition of intelligence, which has sparked discussions around the validity of the tests. (2) While certainly an interesting field of study, this project is does not aim to discuss the validity of IQ but is more concerned with the scores and how studies have suggested correlations with other areas of life.\n",
    "\n",
    "(1)https://books.google.ie/books?id=2G34CgAAQBAJ&pg=PA210&dq=what+is+IQ+psychology+introduction&hl=de&sa=X&ved=0ahUKEwiW8I-LzIvfAhXOUBUIHW0MAUQQ6AEIVDAH#v=onepage&q=what%20is%20IQ%20psychology%20introduction&f=false, 210\n",
    "\n",
    "(2)https://books.google.ie/books?id=gsqFAgAAQBAJ&pg=PT88&dq=what+is+IQ+psychology+introduction&hl=de&sa=X&ved=0ahUKEwiW8I-LzIvfAhXOUBUIHW0MAUQQ6AEIWzAI#v=onepage&q=what%20is%20IQ%20psychology%20introduction&f=false, chapter 7\n",
    "\n",
    "\n",
    "\n",
    "# The Variables\n",
    "\n",
    "A big part of the appeal of determining people's IQ score is to see if it stands in relation to other attributes of a person's life. Researchers have found a number of interesting connections, [this article](https://www.vox.com/2016/5/24/11723182/iq-test-intelligence) displays only some of them. For example:\n",
    "\n",
    "> Having a higher IQ protects you from death\n",
    "\n",
    "> IQ is correlated with career success and wealth, but not necessarily happiness\n",
    "\n",
    "> You're probably stuck with what you got\n",
    "\n",
    "While often a heated discussion, latest data suggests that men and women show no significant difference in IQ scores overall. (1)\n",
    "\n",
    "(1) https://www.psychologytoday.com/us/blog/beautiful-minds/201207/men-women-and-iq-setting-the-record-straight\n",
    "\n",
    "## Putting the findings into practise\n"
   ]
  },
  {
   "cell_type": "markdown",
   "metadata": {},
   "source": [
    "Considering the vast amount of information around IQ it seems tangible to model a realistic dataset of 100 people around their IQ score. Python has in-built commands and available packages that allow to quickly produce random numbers. See also my previous assignment on the functionalities of the numpy.random package. The following is a quick demonstration of how these functions can be used to create a dataset:"
   ]
  },
  {
   "cell_type": "code",
   "execution_count": 62,
   "metadata": {},
   "outputs": [
    {
     "name": "stdout",
     "output_type": "stream",
     "text": [
      "      IQ  Age  Income Gender\n",
      "0    115   40   19986      w\n",
      "1     78   65   45369      w\n",
      "2     89    8   48067      w\n",
      "3    116   85   32081      w\n",
      "4    140   74   22991      m\n",
      "5    119   62   53191      m\n",
      "6    101   37   15645      w\n",
      "7     76   52   42457      m\n",
      "8     97   35   26853      w\n",
      "9     98   80   31969      m\n",
      "10    98   13   35264      w\n",
      "11    68   73   40759      m\n",
      "12    66   58   41153      m\n",
      "13   126   89   31402      w\n",
      "14   124    6   33470      m\n",
      "15    95   81   31406      w\n",
      "16    88   50   21054      m\n",
      "17   109   63   33119      m\n",
      "18   134    9   15742      m\n",
      "19    73   77   51488      m\n",
      "20   107   25   30794      w\n",
      "21    98   18   36727      w\n",
      "22    75   66   19570      m\n",
      "23    99   69   27323      m\n",
      "24   110   44   46418      m\n",
      "25   101   80   30274      w\n",
      "26   105   28   24332      m\n",
      "27    82   42   51921      w\n",
      "28   144   13   40541      w\n",
      "29   114   20   37112      m\n",
      "..   ...  ...     ...    ...\n",
      "970  122   41   43386      m\n",
      "971  134   56   16842      m\n",
      "972  142   81   38276      m\n",
      "973   72   87   16693      w\n",
      "974   69   25   48240      m\n",
      "975   67   45   47701      m\n",
      "976   70   60   47626      m\n",
      "977   74   21   40315      w\n",
      "978   85   28   27021      w\n",
      "979  100   83   31971      m\n",
      "980   83   27   17831      m\n",
      "981   94   33   28486      m\n",
      "982  114   40   50195      w\n",
      "983  113   86   38007      m\n",
      "984  106   72   37871      w\n",
      "985   74   27   54280      m\n",
      "986  130   68   37097      w\n",
      "987   69   37   50141      m\n",
      "988  126   52   26055      w\n",
      "989   72   37   23512      m\n",
      "990  129   64   54332      w\n",
      "991   71   60   36569      w\n",
      "992   86   69   20801      w\n",
      "993  101   67   18207      w\n",
      "994  142   11   36152      w\n",
      "995  147   32   39549      m\n",
      "996  120   46   30069      w\n",
      "997  142   22   32897      w\n",
      "998  124   75   53055      m\n",
      "999  134   62   16729      w\n",
      "\n",
      "[1000 rows x 4 columns]\n"
     ]
    },
    {
     "data": {
      "text/html": [
       "<div>\n",
       "<style scoped>\n",
       "    .dataframe tbody tr th:only-of-type {\n",
       "        vertical-align: middle;\n",
       "    }\n",
       "\n",
       "    .dataframe tbody tr th {\n",
       "        vertical-align: top;\n",
       "    }\n",
       "\n",
       "    .dataframe thead th {\n",
       "        text-align: right;\n",
       "    }\n",
       "</style>\n",
       "<table border=\"1\" class=\"dataframe\">\n",
       "  <thead>\n",
       "    <tr style=\"text-align: right;\">\n",
       "      <th></th>\n",
       "      <th>IQ</th>\n",
       "      <th>Age</th>\n",
       "      <th>Income</th>\n",
       "    </tr>\n",
       "  </thead>\n",
       "  <tbody>\n",
       "    <tr>\n",
       "      <th>IQ</th>\n",
       "      <td>1.000000</td>\n",
       "      <td>0.027777</td>\n",
       "      <td>-0.035853</td>\n",
       "    </tr>\n",
       "    <tr>\n",
       "      <th>Age</th>\n",
       "      <td>0.027777</td>\n",
       "      <td>1.000000</td>\n",
       "      <td>-0.002023</td>\n",
       "    </tr>\n",
       "    <tr>\n",
       "      <th>Income</th>\n",
       "      <td>-0.035853</td>\n",
       "      <td>-0.002023</td>\n",
       "      <td>1.000000</td>\n",
       "    </tr>\n",
       "  </tbody>\n",
       "</table>\n",
       "</div>"
      ],
      "text/plain": [
       "              IQ       Age    Income\n",
       "IQ      1.000000  0.027777 -0.035853\n",
       "Age     0.027777  1.000000 -0.002023\n",
       "Income -0.035853 -0.002023  1.000000"
      ]
     },
     "execution_count": 62,
     "metadata": {},
     "output_type": "execute_result"
    }
   ],
   "source": [
    "#The following code uses numpy and pandas to generate random values that can be put and displayed as a pandas dataframe\n",
    "import pandas as pd\n",
    "import numpy as np\n",
    "\n",
    "#creating empty lists for the different columns\n",
    "listIQ = []\n",
    "listAge = []\n",
    "listIncome = []\n",
    "listGender = []\n",
    "\n",
    "#determining size of the dataset/lists\n",
    "p = 1000\n",
    "\n",
    "#assuming IQ values can fall between 65 and 150 and appending the random value to the IQ list\n",
    "for i in range(p):\n",
    "    x = np.random.randint(65,150)\n",
    "    listIQ.append(x)\n",
    "\n",
    "#assuming an age range between which the IQ test could have been taken\n",
    "for i in range(p):\n",
    "    x = np.random.randint(5,90)\n",
    "    listAge.append(x)\n",
    "\n",
    "#assuming an income range\n",
    "for i in range(p):\n",
    "    x = np.random.randint(15000,55000)\n",
    "    listIncome.append(x)\n",
    "\n",
    "    #gender\n",
    "for i in range(p):\n",
    "    gender = ['m', 'w']\n",
    "    x = np.random.choice(gender)\n",
    "    listGender.append(x)\n",
    "\n",
    "#pull data together\n",
    "#see pandas documentation:\n",
    "#https://pandas.pydata.org/pandas-docs/version/0.23.4/generated/pandas.DataFrame.html\n",
    "d = {'IQ': listIQ, 'Age': listAge, 'Income': listIncome, 'Gender': listGender}\n",
    "df = pd.DataFrame(data=d)\n",
    "print(df)\n",
    "\n",
    "df.corr()"
   ]
  },
  {
   "cell_type": "markdown",
   "metadata": {},
   "source": [
    "However, even if generating the dataset a few times over, a flaw with this method emerges: While it does reliably generate numbers within the specified limits, there is no consistency. The Correlations between the values can change dramatically and it is difficult to draw meaningful conclusions from the dataset. It is unusable for simulation purposes.A look at the graphs below explains why. As per the design of the commands in numpy, the samples were drawn from uniform distributions, meaning, that every outcome is equally likely to occur. While this is arguably acceptable for the variable of Gender in the dataset, it has been established that many natural phenomena, such as height and also IQ resemble a normal or Gaussian distribution."
   ]
  },
  {
   "cell_type": "code",
   "execution_count": 70,
   "metadata": {},
   "outputs": [
    {
     "data": {
      "image/png": "[encoded data removed]",
      "text/plain": [
       "<Figure size 432x288 with 1 Axes>"
      ]
     },
     "metadata": {
      "needs_background": "light"
     },
     "output_type": "display_data"
    },
    {
     "data": {
      "image/png": "[encoded data removed]",
      "text/plain": [
       "<Figure size 432x288 with 1 Axes>"
      ]
     },
     "metadata": {
      "needs_background": "light"
     },
     "output_type": "display_data"
    },
    {
     "data": {
      "image/png": "[encoded data removed]",
      "text/plain": [
       "<Figure size 432x288 with 1 Axes>"
      ]
     },
     "metadata": {
      "needs_background": "light"
     },
     "output_type": "display_data"
    },
    {
     "data": {
      "image/png": "[encoded data removed]",
      "text/plain": [
       "<Figure size 432x288 with 1 Axes>"
      ]
     },
     "metadata": {
      "needs_background": "light"
     },
     "output_type": "display_data"
    }
   ],
   "source": [
    "import matplotlib.pyplot as plt\n",
    "\n",
    "plt.hist(listIQ)\n",
    "plt.show()\n",
    "plt.hist(listGender)\n",
    "plt.show()\n",
    "plt.hist(listIncome)\n",
    "plt.show()\n",
    "plt.hist(listAge)\n",
    "plt.show()"
   ]
  },
  {
   "cell_type": "markdown",
   "metadata": {},
   "source": [
    "Compare the above graphs to the \"bell curve\" that is characteristic of the normal distribution:\n",
    "\n",
    "<img src=\"https://upload.wikimedia.org/wikipedia/commons/thumb/3/39/IQ_distribution.svg/2000px-IQ_distribution.svg.png\" width=\"420\">\n",
    "Normalized IQ distribution with mean 100 and standard deviation 15 (1).\n",
    "\n",
    "The distribution of age looks very different again: \n",
    "<img src=\"https://www.indexmundi.com/graphs/population-pyramids/ireland-population-pyramid-2016.gif\" width=\"420\">\n",
    "Population pyramid, Ireland 2016 (2)\n",
    "\n",
    "(1) https://en.wikipedia.org/wiki/Intelligence_quotient\n",
    "(2) https://www.indexmundi.com/ireland/age_structure.html"
   ]
  }
 ],
 "metadata": {
  "kernelspec": {
   "display_name": "Python 3",
   "language": "python",
   "name": "python3"
  },
  "language_info": {
   "codemirror_mode": {
    "name": "ipython",
    "version": 3
   },
   "file_extension": ".py",
   "mimetype": "text/x-python",
   "name": "python",
   "nbconvert_exporter": "python",
   "pygments_lexer": "ipython3",
   "version": "3.7.0"
  }
 },
 "nbformat": 4,
 "nbformat_minor": 2
}
