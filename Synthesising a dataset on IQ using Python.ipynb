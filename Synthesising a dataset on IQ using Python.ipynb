{
 "cells": [
  {
   "cell_type": "markdown",
   "metadata": {},
   "source": [
    "# Structure"
   ]
  },
  {
   "cell_type": "markdown",
   "metadata": {},
   "source": [
    "# Introduction"
   ]
  },
  {
   "cell_type": "markdown",
   "metadata": {},
   "source": [
    "In this Jupyter workbook I will walk through the process of synthesising a dataset using Python. The dataset will aim to simulate a real-world phenomenon across at least 100 different datapoints and at least 4 different variables. The challenge lies not only in understanding how to use Python and available packages to synthesise a dataset but also in gaining a deep understanding of the data this project aims to simulate.\n",
    "\n",
    "The variables for which the datapoints are created will be investigated to determine their type and likely distributions and also how they relate to one-another to ensure a product that is as close to the real-life phenomenon as possible.\n",
    "\n",
    "## General Considerations\n",
    "\n",
    "One might ask: Why synthesise a dataset if I can simply go online to find data? A fairly straight-forward way to simulate a dataset could be to take an existing dataset, analyse its statistics and use the data on values, minimum, maximum, average, median, correlations and regressions to feed into a function that will either create the exact same dataset or randomise the dataset along the same base statistics. In fact, there are a number of Website and Apps which make this process easier.\n",
    "\n",
    "\n",
    "However, researching different approaches on how to synthesise data brings forward many sources that are related to machine learning, deep learning and testing calculations as well as applications. Synthesised data can be used to test or develop applications in situations where collection of real data would delay development because of the time and resources it would require. (1) It is not difficult to imagine such a situation in a corporate environment. Furthermore, it can serve as a basis to train a machine learning algorithm on. (1, wikipedia)\n",
    "\n",
    "[tbc]\n",
    "\n",
    "Therefore, this project will attempt to model a dataset not recreating a specific already existing dataset but after assumptions and insights that were derived from researching the real-life-phenomenon.\n",
    "\n",
    "\n",
    "(1) https://medium.com/@maxbendick/synthesizing-deep-learning-training-data-db100de1b7f0\n",
    "\n",
    "## (Preliminary) Overview\n",
    "\n",
    "This project will more specifically aim to synthesise a dataset around IQ score. It will aim to create a dataset of 100 datapoints, corresponding to 100 people across the variables: IQ, Gender, Job/University Success and Income.\n",
    "\n",
    "# Real-life phenomenon: IQ Score\n",
    "\n",
    "IQ, Intelligence Quotient, lends itself fabulously to an exploration for a data scientist. It is a well-researched area, with a lot of studies to draw inspiration as well as data from. The name itself suggests its mathematical nature and statistics plays a significant role in the field of psychology. \n",
    "\n",
    "IQ is not the same as intelligence, even though a point can be made that both are closely correlated. While intelligence refers to ___ the IQ of a person is the result they scored at a specific point in time and cannot be assigned without an IQ test. (1) There is no one IQ test and the tests conducted can vary depending on the underlying definition of intelligence, which has sparked discussions around the validity of the tests. (2) While certainly an interesting field of study, this project is does not aim to discuss the validity of IQ but is more concerned with the scores and how studies have suggested correlations with other areas of life.\n",
    "\n",
    "(1)https://books.google.ie/books?id=2G34CgAAQBAJ&pg=PA210&dq=what+is+IQ+psychology+introduction&hl=de&sa=X&ved=0ahUKEwiW8I-LzIvfAhXOUBUIHW0MAUQQ6AEIVDAH#v=onepage&q=what%20is%20IQ%20psychology%20introduction&f=false, 210\n",
    "\n",
    "(2)https://books.google.ie/books?id=gsqFAgAAQBAJ&pg=PT88&dq=what+is+IQ+psychology+introduction&hl=de&sa=X&ved=0ahUKEwiW8I-LzIvfAhXOUBUIHW0MAUQQ6AEIWzAI#v=onepage&q=what%20is%20IQ%20psychology%20introduction&f=false, chapter 7\n",
    "\n",
    "\n",
    "\n",
    "# The Variables\n",
    "\n",
    "A big part of the appeal of determining people's IQ score is to see if it stands in relation to other attributes of a person's life. Researchers have found a number of interesting connections, [this article](https://www.vox.com/2016/5/24/11723182/iq-test-intelligence) displays only some of them. For example:\n",
    "\n",
    "> Having a higher IQ protects you from death\n",
    "\n",
    "> IQ is correlated with career success and wealth, but not necessarily happiness\n",
    "\n",
    "> You're probably stuck with what you got\n",
    "\n",
    "While often a heated discussion, latest data suggests that men and women show no significant difference in IQ scores overall. (1)\n",
    "\n",
    "(1) https://www.psychologytoday.com/us/blog/beautiful-minds/201207/men-women-and-iq-setting-the-record-straight\n",
    "\n",
    "## Putting the findings into practise\n"
   ]
  }
 ],
 "metadata": {
  "kernelspec": {
   "display_name": "Python 3",
   "language": "python",
   "name": "python3"
  },
  "language_info": {
   "codemirror_mode": {
    "name": "ipython",
    "version": 3
   },
   "file_extension": ".py",
   "mimetype": "text/x-python",
   "name": "python",
   "nbconvert_exporter": "python",
   "pygments_lexer": "ipython3",
   "version": "3.7.0"
  }
 },
 "nbformat": 4,
 "nbformat_minor": 2
}
