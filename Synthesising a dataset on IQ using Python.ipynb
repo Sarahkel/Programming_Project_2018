{
 "cells": [
  {
   "cell_type": "markdown",
   "metadata": {},
   "source": [
    "# Structure"
   ]
  },
  {
   "cell_type": "markdown",
   "metadata": {},
   "source": [
    "# Introduction"
   ]
  },
  {
   "cell_type": "markdown",
   "metadata": {},
   "source": [
    "In this Jupyter workbook I will walk through the process of synthesising a dataset using Python. The dataset will aim to simulate a real-world phenomenon across at least 100 different datapoints and at least 4 different variables. The challenge lies not only in understanding how to use Python and available packages to synthesise a dataset but also in gaining a deep understanding of the data this project aims to simulate.\n",
    "\n",
    "The variables for which the datapoints are created will be investigated to determine their type and likely distributions and also how they relate to one-another to ensure a product that is as close to the real-life phenomenon as possible.\n",
    "\n",
    "## General Considerations\n",
    "\n",
    "One might ask: Why synthesise a dataset if I can simply go online to find data? A fairly straight-forward way to simulate a dataset could be to take an existing dataset, analyse its statistics and use the data on values, minimum, maximum, average, median, correlations and regressions to feed into a function that will either create the exact same dataset or randomise the dataset along the same base statistics. In fact, there are a number of Website and Apps which make this process easier.\n",
    "\n",
    "\n",
    "However, researching different approaches on how to synthesise data brings forward many sources that are related to machine learning, deep learning and testing calculations as well as applications. Synthesised data can be used to test or develop applications in situations where collection of real data would delay development because of the time and resources it would require. (1) It is not difficult to imagine such a situation in a corporate environment. Furthermore, it can serve as a basis to train a machine learning algorithm on. (1, wikipedia)\n",
    "\n",
    "[tbc]\n",
    "\n",
    "Therefore, this project will attempt to model a dataset not recreating a specific already existing dataset but after assumptions and insights that were derived from researching the real-life-phenomenon.\n",
    "\n",
    "\n",
    "(1) https://medium.com/@maxbendick/synthesizing-deep-learning-training-data-db100de1b7f0\n",
    "\n",
    "## (Preliminary) Overview\n",
    "\n",
    "This project will more specifically aim to synthesise a dataset around IQ score. It will aim to create a dataset of 100 datapoints, corresponding to 100 people across the variables: IQ, Gender, Age and Income.\n",
    "\n",
    "# Real-life phenomenon: IQ Score\n",
    "\n",
    "IQ, Intelligence Quotient, lends itself fabulously to an exploration for a data scientist. It is a well-researched area, with a lot of studies to draw inspiration as well as data from. The name itself suggests its mathematical nature and statistics plays a significant role in the field of psychology. \n",
    "\n",
    "IQ is not the same as intelligence, even though a point can be made that both are closely correlated. While intelligence refers to ___ the IQ of a person is the result they scored at a specific point in time and cannot be assigned without an IQ test. (1) There is no one IQ test and the tests conducted can vary depending on the underlying definition of intelligence, which has sparked discussions around the validity of the tests. (2) While certainly an interesting field of study, this project is does not aim to discuss the validity of IQ but is more concerned with the scores and how studies have suggested correlations with other areas of life.\n",
    "\n",
    "(1)https://books.google.ie/books?id=2G34CgAAQBAJ&pg=PA210&dq=what+is+IQ+psychology+introduction&hl=de&sa=X&ved=0ahUKEwiW8I-LzIvfAhXOUBUIHW0MAUQQ6AEIVDAH#v=onepage&q=what%20is%20IQ%20psychology%20introduction&f=false, 210\n",
    "\n",
    "(2)https://books.google.ie/books?id=gsqFAgAAQBAJ&pg=PT88&dq=what+is+IQ+psychology+introduction&hl=de&sa=X&ved=0ahUKEwiW8I-LzIvfAhXOUBUIHW0MAUQQ6AEIWzAI#v=onepage&q=what%20is%20IQ%20psychology%20introduction&f=false, chapter 7\n",
    "\n",
    "\n",
    "\n",
    "# The Variables\n",
    "\n",
    "A big part of the appeal of determining people's IQ score is to see if it stands in relation to other attributes of a person's life. Researchers have found a number of interesting connections, [this article](https://www.vox.com/2016/5/24/11723182/iq-test-intelligence) displays only some of them. For example:\n",
    "\n",
    "> Having a higher IQ protects you from death\n",
    "\n",
    "> IQ is correlated with career success and wealth, but not necessarily happiness\n",
    "\n",
    "> You're probably stuck with what you got\n",
    "\n",
    "> Most people have average intelligence\n",
    "\n",
    "While often a heated discussion, latest data suggests that men and women show no significant difference in IQ scores overall. (1)\n",
    "\n",
    "(1) https://www.psychologytoday.com/us/blog/beautiful-minds/201207/men-women-and-iq-setting-the-record-straight\n",
    "\n",
    "## Putting the findings into practise\n"
   ]
  },
  {
   "cell_type": "markdown",
   "metadata": {},
   "source": [
    "Considering the vast amount of information around IQ it seems tangible to model a realistic dataset of 100 people around their IQ score. Python has in-built commands and available packages that allow to quickly produce random numbers. See also my previous assignment on the functionalities of the numpy.random package. The following is a quick demonstration of how these functions can be used to create a dataset:"
   ]
  },
  {
   "cell_type": "code",
   "execution_count": 5,
   "metadata": {
    "collapsed": true
   },
   "outputs": [
    {
     "name": "stdout",
     "output_type": "stream",
     "text": [
      "      IQ  Age  Income Gender\n",
      "0    144   12   37138      m\n",
      "1    118   79   38179      m\n",
      "2    126   69   26247      m\n",
      "3     67    7   20871      m\n",
      "4    128   64   45521      w\n",
      "5    144   52   21588      w\n",
      "6     67   33   46292      w\n",
      "7    121   57   39138      w\n",
      "8    147   44   34351      m\n",
      "9     67   11   18294      m\n",
      "10   104   84   17828      w\n",
      "11   129   89   46336      m\n",
      "12   118   39   45781      m\n",
      "13   123   24   53406      m\n",
      "14    81   12   44556      m\n",
      "15    78    8   18134      m\n",
      "16   132   34   50362      m\n",
      "17   124   15   26792      w\n",
      "18    89   74   42963      w\n",
      "19    74   17   17496      w\n",
      "20   105    7   44394      w\n",
      "21    73   85   19175      w\n",
      "22    89   81   17021      w\n",
      "23    90   42   20065      w\n",
      "24   112   18   35624      m\n",
      "25    65   13   25732      m\n",
      "26   115   64   35644      m\n",
      "27   146   38   36139      w\n",
      "28   107   71   38178      m\n",
      "29   106   34   35245      m\n",
      "..   ...  ...     ...    ...\n",
      "970   87   56   27016      m\n",
      "971  131   53   26140      m\n",
      "972  115   26   37353      m\n",
      "973  134   56   42997      m\n",
      "974  131   49   34844      m\n",
      "975   92   60   20107      m\n",
      "976  117   80   45690      m\n",
      "977  115   34   25119      w\n",
      "978  123   23   33847      w\n",
      "979   71   56   40248      m\n",
      "980   68   66   45393      m\n",
      "981   74   50   44067      w\n",
      "982   78   19   40361      w\n",
      "983  149   49   27601      m\n",
      "984   73   88   49738      m\n",
      "985   65   23   27602      w\n",
      "986  140   21   19814      w\n",
      "987  127   82   49768      m\n",
      "988  118   21   35592      w\n",
      "989  101   60   18360      m\n",
      "990  111   80   49432      m\n",
      "991  132   85   25219      m\n",
      "992   76   79   49182      m\n",
      "993   77   49   43923      m\n",
      "994   70   50   41117      w\n",
      "995   84   56   29847      m\n",
      "996  149   69   28858      w\n",
      "997   92   52   41852      m\n",
      "998  120   42   53644      m\n",
      "999  114   31   24760      m\n",
      "\n",
      "[1000 rows x 4 columns]\n"
     ]
    },
    {
     "data": {
      "text/html": [
       "<div>\n",
       "<style scoped>\n",
       "    .dataframe tbody tr th:only-of-type {\n",
       "        vertical-align: middle;\n",
       "    }\n",
       "\n",
       "    .dataframe tbody tr th {\n",
       "        vertical-align: top;\n",
       "    }\n",
       "\n",
       "    .dataframe thead th {\n",
       "        text-align: right;\n",
       "    }\n",
       "</style>\n",
       "<table border=\"1\" class=\"dataframe\">\n",
       "  <thead>\n",
       "    <tr style=\"text-align: right;\">\n",
       "      <th></th>\n",
       "      <th>IQ</th>\n",
       "      <th>Age</th>\n",
       "      <th>Income</th>\n",
       "    </tr>\n",
       "  </thead>\n",
       "  <tbody>\n",
       "    <tr>\n",
       "      <th>IQ</th>\n",
       "      <td>1.000000</td>\n",
       "      <td>-0.030378</td>\n",
       "      <td>-0.003547</td>\n",
       "    </tr>\n",
       "    <tr>\n",
       "      <th>Age</th>\n",
       "      <td>-0.030378</td>\n",
       "      <td>1.000000</td>\n",
       "      <td>0.053464</td>\n",
       "    </tr>\n",
       "    <tr>\n",
       "      <th>Income</th>\n",
       "      <td>-0.003547</td>\n",
       "      <td>0.053464</td>\n",
       "      <td>1.000000</td>\n",
       "    </tr>\n",
       "  </tbody>\n",
       "</table>\n",
       "</div>"
      ],
      "text/plain": [
       "              IQ       Age    Income\n",
       "IQ      1.000000 -0.030378 -0.003547\n",
       "Age    -0.030378  1.000000  0.053464\n",
       "Income -0.003547  0.053464  1.000000"
      ]
     },
     "execution_count": 5,
     "metadata": {},
     "output_type": "execute_result"
    }
   ],
   "source": [
    "#The following code uses numpy and pandas to generate random values that can be put and displayed as a pandas dataframe\n",
    "import pandas as pd\n",
    "import numpy as np\n",
    "\n",
    "#creating empty lists for the different columns\n",
    "listIQ = []\n",
    "listAge = []\n",
    "listIncome = []\n",
    "listGender = []\n",
    "\n",
    "#determining size of the dataset/lists -  - bigger to ensure distributions are well visible\n",
    "p = 1000\n",
    "\n",
    "#assuming IQ values can fall between 65 and 150 and appending the random value to the IQ list\n",
    "for i in range(p):\n",
    "    x = np.random.randint(65,150)\n",
    "    listIQ.append(x)\n",
    "\n",
    "#assuming an age range between which the IQ test could have been taken\n",
    "for i in range(p):\n",
    "    x = np.random.randint(5,90)\n",
    "    listAge.append(x)\n",
    "\n",
    "#assuming an income range\n",
    "for i in range(p):\n",
    "    x = np.random.randint(15000,55000)\n",
    "    listIncome.append(x)\n",
    "\n",
    "    #gender\n",
    "for i in range(p):\n",
    "    gender = ['m', 'w']\n",
    "    x = np.random.choice(gender)\n",
    "    listGender.append(x)\n",
    "\n",
    "#pull data together\n",
    "#see pandas documentation:\n",
    "#https://pandas.pydata.org/pandas-docs/version/0.23.4/generated/pandas.DataFrame.html\n",
    "d = {'IQ': listIQ, 'Age': listAge, 'Income': listIncome, 'Gender': listGender}\n",
    "df = pd.DataFrame(data=d)\n",
    "print(df)\n",
    "\n",
    "df.corr()"
   ]
  },
  {
   "cell_type": "markdown",
   "metadata": {},
   "source": [
    "However, even if generating the dataset a few times over, a flaw with this method emerges: While it does reliably generate numbers within the specified limits, there is no consistency with real-world scenarios. The Correlations between the values can change dramatically and it is difficult to draw meaningful conclusions from the dataset. It is unusable for simulation purposes.A look at the graphs below explains why. As per the design of the commands in numpy, the samples were drawn from uniform distributions, meaning, that every outcome is equally likely to occur. While this is arguably acceptable for the variable of Gender in the dataset, it has been established that many natural phenomena, such as height and also IQ resemble a normal or Gaussian distribution."
   ]
  },
  {
   "cell_type": "code",
   "execution_count": 8,
   "metadata": {
    "collapsed": true
   },
   "outputs": [
    {
     "data": {
      "image/png": "[encoded data removed]",
      "text/plain": [
       "<Figure size 432x288 with 1 Axes>"
      ]
     },
     "metadata": {
      "needs_background": "light"
     },
     "output_type": "display_data"
    },
    {
     "data": {
      "image/png": "[encoded data removed]",
      "text/plain": [
       "<Figure size 432x288 with 1 Axes>"
      ]
     },
     "metadata": {
      "needs_background": "light"
     },
     "output_type": "display_data"
    },
    {
     "data": {
      "image/png": "[encoded data removed]",
      "text/plain": [
       "<Figure size 432x288 with 1 Axes>"
      ]
     },
     "metadata": {
      "needs_background": "light"
     },
     "output_type": "display_data"
    },
    {
     "data": {
      "image/png": "[encoded data removed]",
      "text/plain": [
       "<Figure size 432x288 with 1 Axes>"
      ]
     },
     "metadata": {
      "needs_background": "light"
     },
     "output_type": "display_data"
    }
   ],
   "source": [
    "import matplotlib.pyplot as plt\n",
    "\n",
    "plt.hist(listIQ)\n",
    "plt.xlabel('\"IQ\"')\n",
    "plt.ylabel('No. of Samples')\n",
    "plt.title('Histogram of samples drawn from numpy.random.randint')\n",
    "plt.show()\n",
    "plt.hist(listGender)\n",
    "plt.xlabel('\"Gender\"')\n",
    "plt.ylabel('No. of Samples')\n",
    "plt.title('Histogram of samples drawn from numpy.random.randint')\n",
    "plt.show()\n",
    "plt.hist(listIncome)\n",
    "plt.xlabel('\"Income\"')\n",
    "plt.ylabel('No. of Samples')\n",
    "plt.title('Histogram of samples drawn from numpy.random.randint')\n",
    "plt.show()\n",
    "plt.hist(listAge)\n",
    "plt.xlabel('\"Age\"')\n",
    "plt.ylabel('No. of Samples')\n",
    "plt.title('Histogram of samples drawn from numpy.random.randint')\n",
    "plt.show()"
   ]
  },
  {
   "cell_type": "markdown",
   "metadata": {},
   "source": [
    "# IQ\n",
    "Compare the above graph for IQ to the \"bell curve\" below that is characteristic of a normal distribition. IQ approximates a normal distribution across a population. The median of the IQ distribution is 100 with a standard deviation of 15 and the possible scores fall between 40 and 160. (1) An IQ scale is ordinal data, meaning that the datapoints can be ranked an are naturally ordered (f.ex. from low IQ to high IQ) (2). Looking at this distribution, we can see that the majority of people will fall around the median or average IQ scores.\n",
    "\n",
    "<img src=\"https://upload.wikimedia.org/wikipedia/commons/thumb/3/39/IQ_distribution.svg/2000px-IQ_distribution.svg.png\" width=\"420\">\n",
    "Normalized IQ distribution with mean 100 and standard deviation 15 (1).\n",
    "\n",
    "(1) https://en.wikipedia.org/wiki/Intelligence_quotient\n",
    "\n",
    "(2) https://en.wikipedia.org/wiki/Ordinal_data"
   ]
  },
  {
   "cell_type": "code",
   "execution_count": 2,
   "metadata": {
    "collapsed": true
   },
   "outputs": [
    {
     "data": {
      "image/png": "[encoded data removed]",
      "text/plain": [
       "<Figure size 432x288 with 1 Axes>"
      ]
     },
     "metadata": {
      "needs_background": "light"
     },
     "output_type": "display_data"
    },
    {
     "data": {
      "text/plain": [
       "array([116,  95, 102, 125, 109, 113,  80, 121, 104, 103,  80,  94, 106,\n",
       "        97, 101, 108, 103,  75, 102, 110, 120,  80, 119,  98,  98, 148,\n",
       "        85, 108,  85, 113,  72, 101,  85,  92,  74,  89, 106, 111, 107,\n",
       "        93,  99, 100,  92,  98, 132, 100,  96, 109, 116,  70,  91, 112,\n",
       "        98,  63,  96,  93, 103,  93, 131, 103,  83, 100,  94,  67,  80,\n",
       "       111,  97,  87, 104, 105,  90,  83,  98,  95,  96,  95,  91, 101,\n",
       "        97, 111, 107, 111,  91,  87, 100,  83,  85,  89,  74,  88, 104,\n",
       "       105, 101, 109, 113,  95, 112, 117, 103, 106,  91,  95,  82,  88,\n",
       "       110, 102, 105, 125,  80,  82,  96,  88, 101, 114, 103,  86,  95,\n",
       "        91, 108,  90, 110,  91,  74, 123, 100, 109, 103, 138,  85,  96,\n",
       "        99, 107, 109,  74, 102, 124, 116,  87, 104,  97,  98,  74,  63,\n",
       "       100,  95, 102,  84, 118,  65, 110, 111, 102, 131,  64,  83,  88,\n",
       "        98, 113, 103,  96,  94, 107, 104, 112,  79,  75,  95,  99, 110,\n",
       "       102,  87, 120,  86,  89,  83,  86, 107, 102, 108,  85,  99, 115,\n",
       "       101, 117,  74,  91,  92, 116, 109,  94,  97, 114,  80,  87,  91,\n",
       "       102,  85,  87, 120,  79,  99, 102,  75, 125,  85,  78, 109, 103,\n",
       "       115, 116, 119, 103,  85, 114,  90,  92,  82,  89, 103,  90,  87,\n",
       "       118,  80,  87, 107, 108, 102, 124, 127, 105,  99, 103,  99, 133,\n",
       "       115, 102, 113, 115,  89,  89, 117, 112,  93, 105, 111, 110, 128,\n",
       "       113,  90, 129, 100,  83,  99, 103, 100,  90, 128,  64,  99,  90,\n",
       "       126, 105, 105, 115,  67,  73,  92, 124, 109,  90,  82,  96,  99,\n",
       "       109,  81, 114, 106,  91,  75,  94, 103, 105,  86, 118, 115, 109,\n",
       "        86,  86, 105, 107, 100, 112, 104, 111,  84,  72,  96, 111,  85,\n",
       "       104,  61,  70,  90,  99,  94, 113,  99,  84, 115, 105,  91, 128,\n",
       "       101,  97,  98,  80, 101,  99,  83,  97,  91,  93, 110, 110,  95,\n",
       "        98,  74,  94,  91, 114, 106,  70, 112,  93, 103, 119, 120,  97,\n",
       "       123, 112, 125,  93,  99, 112,  95,  84,  91,  99,  95,  90,  80,\n",
       "       102, 108, 115, 139, 112,  94,  90, 118, 122, 130, 125, 122,  91,\n",
       "       117, 117, 122, 106, 112,  66, 100, 117, 101, 114,  97,  88,  98,\n",
       "        59,  98,  95,  69,  95, 136, 106,  88,  91,  98, 105,  97,  74,\n",
       "       122, 101, 102, 113,  99, 107, 108,  96, 132, 102, 105,  76, 107,\n",
       "       105, 115, 124, 127, 123, 100,  93,  90, 101,  85,  93,  99, 110,\n",
       "       106,  87,  97, 118,  66, 119,  91,  95, 121, 109, 111, 103,  98,\n",
       "        91, 110, 102, 110, 117, 102,  80,  92,  97,  62,  76, 102,  97,\n",
       "        86,  99,  97,  97,  91, 102, 111,  98, 106, 100,  79, 112, 110,\n",
       "        84,  91, 129, 114, 115, 122, 103,  95, 100,  98, 134, 101,  91,\n",
       "        87,  78,  95, 145,  92,  76, 124,  64,  72,  93,  85, 112,  98,\n",
       "        88,  89, 104, 115, 121,  96,  82, 124, 109, 105,  96,  94,  99,\n",
       "        86, 108,  99,  92,  85,  93,  79,  88, 105,  87, 149,  71,  90,\n",
       "        92,  88,  95,  86,  81,  84, 124, 116, 126,  79,  78,  98, 112,\n",
       "       105,  88,  84,  72, 115, 103,  88, 104, 121,  83,  86,  81,  86,\n",
       "       123,  86, 107, 125,  95,  98, 117, 122,  87,  99,  92, 114,  73,\n",
       "       119,  96, 103, 110,  85,  90, 101, 112, 102,  99, 101, 118,  92,\n",
       "        95, 111,  85, 104, 108, 108,  86,  98, 106,  90, 109, 118,  99,\n",
       "        74,  69, 102, 103,  91,  89, 114, 101, 116, 104, 110,  95, 122,\n",
       "        93, 104,  89,  84, 126, 101, 114,  80,  97,  93,  94, 108,  94,\n",
       "        98, 110,  93, 109, 116,  84, 108, 109,  84, 129, 116,  91,  93,\n",
       "        95,  91,  81, 109, 109, 111, 107, 107, 107, 114,  81, 119,  96,\n",
       "        97,  82, 118,  94, 115, 107, 103,  90, 122, 130, 107, 116, 103,\n",
       "        97, 118, 105,  98,  82, 115, 101, 101,  82, 123, 100, 102,  95,\n",
       "        73, 111, 103,  69, 111, 100, 123,  67,  83, 110,  84,  92,  98,\n",
       "        99, 112,  80, 114, 104, 113,  97, 117, 107,  83, 102, 106,  96,\n",
       "        80,  95, 123,  86, 120,  88,  78,  81,  99,  97, 120,  94, 103,\n",
       "       104, 105,  94,  91,  97,  94,  85, 122, 142, 114,  86, 123,  94,\n",
       "       122,  95,  95, 120, 118,  76,  94,  83, 105, 102, 113, 102,  97,\n",
       "        88,  79, 109, 116,  95,  91, 107,  88,  93, 113, 103, 103,  89,\n",
       "       119,  67,  71, 110, 102,  83, 104,  94,  72,  90, 134, 114,  93,\n",
       "        85,  90,  86, 112, 100, 103, 111,  88, 102,  81,  92, 110, 110,\n",
       "       102, 114,  91, 111, 100,  95,  74,  80, 107,  84,  91, 134, 114,\n",
       "       108, 106,  94, 111, 116,  87, 101, 102, 101, 106,  91, 111,  98,\n",
       "       113,  80,  99, 113,  77,  86, 106, 104,  97,  73, 129,  99,  72,\n",
       "       125,  77, 113, 101,  91,  84, 116,  83,  82,  87,  94, 117,  92,\n",
       "       105, 133, 105,  96,  98,  89, 109,  98, 141, 100, 105,  95, 114,\n",
       "        92, 101, 118,  72, 111,  97, 103, 108, 101,  89,  84, 101, 107,\n",
       "       121, 122,  83, 116,  98,  90, 130,  88,  86, 108,  93, 117,  72,\n",
       "        84, 110, 114, 104,  99,  92,  83, 120,  85, 112, 105,  82, 110,\n",
       "        77, 103,  97, 105,  65,  89, 114,  92,  83, 107, 110,  88, 115,\n",
       "        99,  88, 116,  87,  97, 116, 101, 119, 106,  87,  65, 103, 103,\n",
       "        91,  97,  82, 109,  97, 127, 113, 120, 104, 100, 109,  80,  96,\n",
       "       123, 102,  88, 106, 118,  78,  56,  93,  81, 119, 106, 105, 108,\n",
       "       124, 100,  82, 105,  85, 118, 127, 106, 107,  98, 115, 120, 104,\n",
       "        89, 109, 125,  76, 100,  88,  95, 110,  79, 110, 128,  90,  99,\n",
       "        81, 103,  90, 111,  92, 106, 102, 111,  87,  87, 122,  79, 113,\n",
       "        77, 103,  94,  91, 106, 105,  97, 116, 104, 112,  92,  92,  98,\n",
       "        87, 119,  99,  86, 115, 115, 121,  90, 125,  91,  88, 103, 122,\n",
       "       106, 107, 120,  80, 108,  94, 110, 113, 117,  98, 100,  89, 109,\n",
       "       102, 111, 101,  51,  83, 121,  96,  80,  79, 102,  98, 134])"
      ]
     },
     "execution_count": 2,
     "metadata": {},
     "output_type": "execute_result"
    }
   ],
   "source": [
    "#using numpy.random to generate data modelled after the IQ distribution\n",
    "\n",
    "import numpy as np\n",
    "import matplotlib.pyplot as plt\n",
    "import pandas as pd\n",
    "from scipy.stats import norm\n",
    "np.random.seed(32)\n",
    "\n",
    "#https://docs.scipy.org/doc/numpy/reference/generated/numpy.random.normal.html#numpy.random.normal\n",
    "mean, std = 100, 15\n",
    "#https://stackoverflow.com/questions/33160367/numpy-how-to-generate-a-normally-distributed-set-of-integers\n",
    "#used above to ensure only integers are drawn\n",
    "IQ = norm.ppf(np.random.random(1000), loc=mean, scale=std).astype(int) #using high samplesize to ensure clear outcome, rounding results to create integers\n",
    "plt.hist(IQ, 30) #determining bins\n",
    "#formatting the plot\n",
    "plt.axvline(IQ.mean(), color='r', linewidth=1) #https://stackoverflow.com/questions/16180946/drawing-average-line-in-histogram-matplotlib\n",
    "plt.xlabel('IQ')\n",
    "plt.ylabel('No. of Samples')\n",
    "plt.title('Distribution of IQ', color='g', fontsize=20)\n",
    "plt.show()\n",
    "\n",
    "IQ"
   ]
  },
  {
   "cell_type": "markdown",
   "metadata": {},
   "source": [
    "# Age\n",
    "\n",
    "The distribution of age looks very different again. Age, as is IQ, is ordinal data which can be naturally ranked from low to high. As can be seen in the pyramid chart below however, it does not clearly follow any distribution for which numpy.random provides a handy function for. Instead, the percentage breakdown of indexmundi can be used in conjunction with the numpy.random.choice function, which allows to draw weighted samples from a list. Find below a code which replicates the agebrackets by using the percentages assigned to them on indexmundi.\n",
    "\n",
    "\n",
    "<img src=\"https://www.indexmundi.com/graphs/population-pyramids/ireland-population-pyramid-2016.gif\" width=\"420\">\n",
    "Population pyramid, Ireland 2016 (3)\n",
    "\n",
    "As Indexmundi also provides the percentages which correspond to the different agebrackets\n",
    "\n",
    "(3) https://www.indexmundi.com/ireland/age_structure.html"
   ]
  },
  {
   "cell_type": "code",
   "execution_count": 171,
   "metadata": {
    "collapsed": true
   },
   "outputs": [
    {
     "data": {
      "text/plain": [
       "(array([209.,   0., 118.,   0.,   0., 428.,   0., 117.,   0., 128.]),\n",
       " array([0. , 0.4, 0.8, 1.2, 1.6, 2. , 2.4, 2.8, 3.2, 3.6, 4. ]),\n",
       " <a list of 10 Patch objects>)"
      ]
     },
     "execution_count": 171,
     "metadata": {},
     "output_type": "execute_result"
    },
    {
     "data": {
      "image/png": "[encoded data removed]",
      "text/plain": [
       "<Figure size 432x288 with 1 Axes>"
      ]
     },
     "metadata": {
      "needs_background": "light"
     },
     "output_type": "display_data"
    }
   ],
   "source": [
    "#Attempt to recreate an age distribution\n",
    "\n",
    "#import packages\n",
    "import numpy as np\n",
    "import matplotlib.pyplot as plt\n",
    "import pandas as pd\n",
    "import seaborn as sb\n",
    "np.random.seed(32)\n",
    "\n",
    "#relicate agebrackets from source:\n",
    "#https://www.indexmundi.com/ireland/age_structure.html\n",
    "\n",
    "agebrackets = ['0-14', '15-24', '25-54', '55-64', '65+']\n",
    "agedist = np.random.choice(agebrackets, 1000, p=[0.215, 0.12, 0.43, 0.105, 0.13]) #draw samples with the percentages used as probabilities\n",
    "agedist.sort() #ensure bins do not show in random order\n",
    "plt.hist(agedist)"
   ]
  },
  {
   "cell_type": "code",
   "execution_count": 3,
   "metadata": {
    "collapsed": true
   },
   "outputs": [
    {
     "data": {
      "text/plain": [
       "(array([20., 31., 35., 26., 17., 35., 30., 15., 27., 12., 25., 29., 28.,\n",
       "         0., 26., 25., 37., 33., 19., 37., 19., 27., 12., 28., 37., 27.,\n",
       "        36., 11., 29., 32.,  8., 12., 23., 27., 26., 15.,  2., 11.,  8.,\n",
       "        13.,  4.,  5., 14., 12.,  6.,  7., 13.,  9.,  8., 12.]),\n",
       " array([ 0.  ,  1.78,  3.56,  5.34,  7.12,  8.9 , 10.68, 12.46, 14.24,\n",
       "        16.02, 17.8 , 19.58, 21.36, 23.14, 24.92, 26.7 , 28.48, 30.26,\n",
       "        32.04, 33.82, 35.6 , 37.38, 39.16, 40.94, 42.72, 44.5 , 46.28,\n",
       "        48.06, 49.84, 51.62, 53.4 , 55.18, 56.96, 58.74, 60.52, 62.3 ,\n",
       "        64.08, 65.86, 67.64, 69.42, 71.2 , 72.98, 74.76, 76.54, 78.32,\n",
       "        80.1 , 81.88, 83.66, 85.44, 87.22, 89.  ]),\n",
       " <a list of 50 Patch objects>)"
      ]
     },
     "execution_count": 3,
     "metadata": {},
     "output_type": "execute_result"
    },
    {
     "data": {
      "image/png": "[encoded data removed]",
      "text/plain": [
       "<Figure size 432x288 with 1 Axes>"
      ]
     },
     "metadata": {
      "needs_background": "light"
     },
     "output_type": "display_data"
    }
   ],
   "source": [
    "#in order to be able to better analyze it take it out of brackets\n",
    "import numpy as np\n",
    "import matplotlib.pyplot as plt\n",
    "import pandas as pd\n",
    "from scipy.stats import norm\n",
    "import seaborn as sb\n",
    "np.random.seed(32)\n",
    "\n",
    "i=1\n",
    "p=1000\n",
    "listage=[]\n",
    "\n",
    "\n",
    "for i in range(p):\n",
    "    agebrackets = [np.random.randint(0,14), np.random.randint(15,24), np.random.randint(25,54), np.random.randint(55,64), np.random.randint(65,90)]\n",
    "    agedist = np.random.choice(agebrackets, p=[0.215, 0.12, 0.43, 0.105, 0.13])\n",
    "    listage.append(agedist)\n",
    "\n",
    "\n",
    "plt.hist(listage, bins = 50)"
   ]
  },
  {
   "cell_type": "markdown",
   "metadata": {},
   "source": [
    "# Gender\n",
    "\n",
    "As the gender distribution is close to 50/50, it is fair to let the random module make its pick.\n"
   ]
  },
  {
   "cell_type": "code",
   "execution_count": 170,
   "metadata": {
    "collapsed": true
   },
   "outputs": [
    {
     "data": {
      "text/plain": [
       "(array([482.,   0.,   0.,   0.,   0.,   0.,   0.,   0.,   0., 518.]),\n",
       " array([0. , 0.1, 0.2, 0.3, 0.4, 0.5, 0.6, 0.7, 0.8, 0.9, 1. ]),\n",
       " <a list of 10 Patch objects>)"
      ]
     },
     "execution_count": 170,
     "metadata": {},
     "output_type": "execute_result"
    },
    {
     "data": {
      "image/png": "[encoded data removed]",
      "text/plain": [
       "<Figure size 432x288 with 1 Axes>"
      ]
     },
     "metadata": {
      "needs_background": "light"
     },
     "output_type": "display_data"
    }
   ],
   "source": [
    "import numpy as np\n",
    "import matplotlib.pyplot as plt\n",
    "import pandas as pd\n",
    "import seaborn as sb\n",
    "np.random.seed(32)\n",
    "\n",
    "values = ['m', 'w']\n",
    "gender = np.random.choice(values,1000)\n",
    "\n",
    "plt.hist(gender)"
   ]
  },
  {
   "cell_type": "markdown",
   "metadata": {},
   "source": [
    "# Income\n",
    "\n",
    "\n",
    "\n",
    "<img src=\"https://www.nerinstitute.net/imglibrary/2016/10/201610071112311_lg.png\" width=\"990\">\n",
    "Distribution of Gross Household Income in 2014 (Republic of Ireland) (1)\n",
    "\n",
    "\n",
    "\n",
    "(1) https://www.nerinstitute.net/blog/2016/10/06/the-squeezed-middle/"
   ]
  },
  {
   "cell_type": "markdown",
   "metadata": {},
   "source": [
    "# Height\n",
    "\n",
    "Height, similar to IQ, tends to be described by a bell-curve approximating a normal distribution. 178, 7.5\n",
    "\n"
   ]
  },
  {
   "cell_type": "code",
   "execution_count": 11,
   "metadata": {
    "collapsed": true
   },
   "outputs": [
    {
     "data": {
      "image/png": "[encoded data removed]",
      "text/plain": [
       "<Figure size 432x288 with 1 Axes>"
      ]
     },
     "metadata": {
      "needs_background": "light"
     },
     "output_type": "display_data"
    }
   ],
   "source": [
    "import numpy as np\n",
    "import matplotlib.pyplot as plt\n",
    "import pandas as pd\n",
    "from scipy.stats import norm\n",
    "np.random.seed(32)\n",
    "\n",
    "#https://docs.scipy.org/doc/numpy/reference/generated/numpy.random.normal.html#numpy.random.normal\n",
    "mean, std = 178, 7.5 #height approximated from https://en.wikipedia.org/wiki/Standard_deviation\n",
    "#https://stackoverflow.com/questions/33160367/numpy-how-to-generate-a-normally-distributed-set-of-integers\n",
    "#used above to ensure only integers are drawn\n",
    "height = norm.ppf(np.random.random(1000), loc=mean, scale=std).astype(int) #using high samplesize to ensure clear outcome, rounding results to create integers\n",
    "plt.hist(height, 30) #determining bins\n",
    "#formatting the plot\n",
    "plt.axvline(height.mean(), color='r', linewidth=1) #https://stackoverflow.com/questions/16180946/drawing-average-line-in-histogram-matplotlib\n",
    "plt.xlabel('height')\n",
    "plt.ylabel('No. of Samples')\n",
    "plt.title('Distribution of height', color='g', fontsize=20)\n",
    "plt.show()"
   ]
  },
  {
   "cell_type": "markdown",
   "metadata": {},
   "source": [
    "# Bringing the data together"
   ]
  },
  {
   "cell_type": "markdown",
   "metadata": {},
   "source": [
    "The different variables and their distributions were discussed above. The following is an overview of the discussed characteristics and how this project aims to synthesise them: \n",
    "\n",
    "| Variable          | Distribution expected | Data Type  | Type    | Relationship              |\n",
    "| -------------     |:--------        -----:| ----     -:| ----  -:| ----                    -:|\n",
    "| **IQ**            | Normal distribution   | Ordinal    | Integer | Correlation to Height     |\n",
    "| **Gender**        | Binomial distrbution  | Nominal    | string  | Correlation to Height     |\n",
    "| **Height**        | Normal distribution   | Ratio      | Integer | Correlation to IQ, Gender |\n",
    "| **Age**           | custom, see above     | Ratio      | Integer | No correlations           |"
   ]
  },
  {
   "cell_type": "code",
   "execution_count": 4,
   "metadata": {
    "scrolled": true
   },
   "outputs": [
    {
     "name": "stdout",
     "output_type": "stream",
     "text": [
      "      IQ  Age  Gender  Height\n",
      "0    116    7       0     183\n",
      "1     95    7     100     181\n",
      "2    102   45       0     180\n",
      "3    125   11       0     176\n",
      "4    109   50       0     182\n",
      "5    113   43       0     178\n",
      "6     80   70       0     182\n",
      "7    121   39     100     175\n",
      "8    104   22     100     182\n",
      "9    103   26       0     180\n",
      "10    80   10     100     174\n",
      "11    94   25     100     172\n",
      "12   106   45       0     182\n",
      "13    97   26     100     187\n",
      "14   101   69       0     171\n",
      "15   108   47       0     166\n",
      "16   103   21     100     171\n",
      "17    75   60       0     171\n",
      "18   102   63       0     171\n",
      "19   110   84       0     169\n",
      "20   120   48     100     166\n",
      "21    80    8       0     174\n",
      "22   119   31       0     184\n",
      "23    98   43       0     172\n",
      "24    98   15     100     181\n",
      "25   148   60     100     183\n",
      "26    85   57       0     169\n",
      "27   108   31       0     178\n",
      "28    85   23       0     181\n",
      "29   113   43     100     179\n",
      "..   ...  ...     ...     ...\n",
      "970  125   20     100     184\n",
      "971   91   48     100     178\n",
      "972   88   33     100     188\n",
      "973  103    7     100     179\n",
      "974  122   23     100     167\n",
      "975  106   75       0     196\n",
      "976  107   28     100     184\n",
      "977  120    1       0     191\n",
      "978   80   43     100     173\n",
      "979  108   60     100     184\n",
      "980   94   27     100     175\n",
      "981  110    6     100     184\n",
      "982  113   37       0     166\n",
      "983  117   10       0     178\n",
      "984   98   31     100     172\n",
      "985  100   48       0     180\n",
      "986   89   34     100     187\n",
      "987  109   55     100     172\n",
      "988  102   27       0     169\n",
      "989  111   27       0     174\n",
      "990  101   33       0     168\n",
      "991   51   17     100     177\n",
      "992   83   44     100     197\n",
      "993  121   75     100     185\n",
      "994   96    4       0     162\n",
      "995   80   34       0     185\n",
      "996   79   73     100     162\n",
      "997  102    5     100     175\n",
      "998   98   50       0     181\n",
      "999  134   40     100     180\n",
      "\n",
      "[1000 rows x 4 columns]\n"
     ]
    }
   ],
   "source": [
    "#summary\n",
    "import numpy as np\n",
    "import matplotlib.pyplot as plt\n",
    "import pandas as pd\n",
    "from scipy.stats import norm\n",
    "import seaborn as sb\n",
    "np.random.seed(32)\n",
    "\n",
    "mean, std = 100, 15\n",
    "IQ = norm.ppf(np.random.random(1000), loc=mean, scale=std).astype(int) \n",
    "\n",
    "mean, std = 178, 7.5\n",
    "height = norm.ppf(np.random.random(1000), loc=mean, scale=std).astype(int)\n",
    "\n",
    "\n",
    "#agebrackets = ['0-14', '15-24', '25-54', '55-64', '65+']\n",
    "#agedist = np.random.choice(agebrackets, 1000, p=[0.215, 0.12, 0.43, 0.105, 0.13])\n",
    "i=1\n",
    "p=1000\n",
    "listage=[]\n",
    "\n",
    "\n",
    "for i in range(p):\n",
    "    agebrackets = [np.random.randint(0,14), np.random.randint(15,24), np.random.randint(25,54), np.random.randint(55,64), np.random.randint(65,90)]\n",
    "    agedist = np.random.choice(agebrackets, p=[0.215, 0.12, 0.43, 0.105, 0.13])\n",
    "    listage.append(agedist)\n",
    "\n",
    "values = [0, 100] #0=men, 1=women\n",
    "gender = np.random.choice(values,1000)\n",
    "\n",
    "#print(IQ)\n",
    "#print(agedist)\n",
    "#print(gender)\n",
    "\n",
    "\n",
    "#Pulling data into one dataframe\n",
    "#Source: https://stackoverflow.com/questions/20763012/creating-a-pandas-dataframe-from-a-numpy-array-how-do-i-specify-the-index-colum\n",
    "dataset = pd.DataFrame({'IQ':IQ,'Age':listage, 'Gender':gender, 'Height':height})\n",
    "print(dataset)\n"
   ]
  },
  {
   "cell_type": "code",
   "execution_count": 20,
   "metadata": {},
   "outputs": [
    {
     "data": {
      "image/png": "[encoded data removed]",
      "text/plain": [
       "<Figure size 432x288 with 1 Axes>"
      ]
     },
     "metadata": {
      "needs_background": "light"
     },
     "output_type": "display_data"
    }
   ],
   "source": [
    "import numpy as np\n",
    "import matplotlib.pyplot as plt\n",
    "import pandas as pd\n",
    "from scipy.stats import norm\n",
    "import seaborn as sb\n",
    "np.random.seed(32)\n",
    "\n",
    "#sb.hist(dataset, color = ['b', 'r', 'g'])\n",
    "#pd.DataFrame.plot(dataset)\n",
    "dataset.plot(kind='box')\n",
    "plt.show()"
   ]
  },
  {
   "cell_type": "code",
   "execution_count": 9,
   "metadata": {
    "collapsed": true
   },
   "outputs": [
    {
     "data": {
      "image/png": "[encoded data removed]",
      "text/plain": [
       "<Figure size 432x288 with 1 Axes>"
      ]
     },
     "metadata": {
      "needs_background": "light"
     },
     "output_type": "display_data"
    }
   ],
   "source": [
    "dataset.plot(kind='hist')\n",
    "plt.show()"
   ]
  },
  {
   "cell_type": "code",
   "execution_count": 10,
   "metadata": {},
   "outputs": [
    {
     "data": {
      "text/html": [
       "<div>\n",
       "<style scoped>\n",
       "    .dataframe tbody tr th:only-of-type {\n",
       "        vertical-align: middle;\n",
       "    }\n",
       "\n",
       "    .dataframe tbody tr th {\n",
       "        vertical-align: top;\n",
       "    }\n",
       "\n",
       "    .dataframe thead th {\n",
       "        text-align: right;\n",
       "    }\n",
       "</style>\n",
       "<table border=\"1\" class=\"dataframe\">\n",
       "  <thead>\n",
       "    <tr style=\"text-align: right;\">\n",
       "      <th></th>\n",
       "      <th>IQ</th>\n",
       "      <th>Age</th>\n",
       "      <th>Gender</th>\n",
       "      <th>Height</th>\n",
       "    </tr>\n",
       "  </thead>\n",
       "  <tbody>\n",
       "    <tr>\n",
       "      <th>IQ</th>\n",
       "      <td>1.000000</td>\n",
       "      <td>0.034704</td>\n",
       "      <td>0.053821</td>\n",
       "      <td>-0.024692</td>\n",
       "    </tr>\n",
       "    <tr>\n",
       "      <th>Age</th>\n",
       "      <td>0.034704</td>\n",
       "      <td>1.000000</td>\n",
       "      <td>0.004902</td>\n",
       "      <td>-0.016682</td>\n",
       "    </tr>\n",
       "    <tr>\n",
       "      <th>Gender</th>\n",
       "      <td>0.053821</td>\n",
       "      <td>0.004902</td>\n",
       "      <td>1.000000</td>\n",
       "      <td>0.010765</td>\n",
       "    </tr>\n",
       "    <tr>\n",
       "      <th>Height</th>\n",
       "      <td>-0.024692</td>\n",
       "      <td>-0.016682</td>\n",
       "      <td>0.010765</td>\n",
       "      <td>1.000000</td>\n",
       "    </tr>\n",
       "  </tbody>\n",
       "</table>\n",
       "</div>"
      ],
      "text/plain": [
       "              IQ       Age    Gender    Height\n",
       "IQ      1.000000  0.034704  0.053821 -0.024692\n",
       "Age     0.034704  1.000000  0.004902 -0.016682\n",
       "Gender  0.053821  0.004902  1.000000  0.010765\n",
       "Height -0.024692 -0.016682  0.010765  1.000000"
      ]
     },
     "execution_count": 10,
     "metadata": {},
     "output_type": "execute_result"
    }
   ],
   "source": [
    "dataset.corr()"
   ]
  },
  {
   "cell_type": "markdown",
   "metadata": {},
   "source": [
    "# Correlating values"
   ]
  },
  {
   "cell_type": "markdown",
   "metadata": {},
   "source": [
    "Above dataset is already looking a lot better than the previous one. The variables it contains are sampled from distributions that apprximate the distributions these variables have in the real-world. Every variable in itself now displays more realistic values in terms of its mean and standard deviation, as opposed to the first example where all variables were drawn from a uniform distribution. However, it does not approximate a real dataset since the variables do not have the same relationships and dependencies one would expect when looking into research on IQ correlations.\n",
    "\n",
    "Rsearch has shown, that height and IQ are consistently, albeit modestly, correlated. (1)\n",
    "\n",
    "[cue definition of correlation]\n",
    "\n",
    "The 'numpy.random' module offers a function to generate correlated values, such as 'np.random.multivariate_normal' and one can find several approaches online on how to translate correlation into code. One example from user '' on Stackoverflow can be seen below. While it is easy to get the correlation values from a dataset through commands such as '.corr()' and '.describe()' it is not as easy to reverse-engineer these operations without a solid knowledge of mathematics and/or statistics.\n",
    "\n",
    "The first example below shows how to generate correlated values, the correlation can be nicely observed in the attached scatterplot. It can be seen, how as one value increases, the other tends to increase as well.\n",
    "\n",
    "(1) https://www.ncbi.nlm.nih.gov/pmc/articles/PMC3617178/"
   ]
  },
  {
   "cell_type": "code",
   "execution_count": 86,
   "metadata": {},
   "outputs": [
    {
     "data": {
      "image/png": "[encoded data removed]",
      "text/plain": [
       "<Figure size 432x288 with 1 Axes>"
      ]
     },
     "metadata": {
      "needs_background": "light"
     },
     "output_type": "display_data"
    },
    {
     "name": "stdout",
     "output_type": "stream",
     "text": [
      "min IQ 98.29108366771166\n",
      "max IQ 101.84238123963631\n"
     ]
    }
   ],
   "source": [
    "#correlating values of IQ and Height\n",
    "#https://www.danielsoper.com/statcalc/calculator.aspx?id=46\n",
    "#mean = 100, 178\n",
    "#cov= 21, 21\n",
    "#np.random.multivariate_normal(mean,cov,1000)\n",
    "\n",
    "#Adapted from: https://stackoverflow.com/questions/16024677/generate-correlated-data-in-python-3-3/16025584#16025584\n",
    "import numpy as np\n",
    "import matplotlib.pyplot as plt\n",
    "np.random.seed(32)\n",
    "linalg = np.linalg\n",
    "\n",
    "num_samples = 1000\n",
    "num_variables = 2\n",
    "cov = [[0.3, 0.2], [0.2, 0.2]]\n",
    "\n",
    "L = linalg.cholesky(cov)\n",
    "# print(L.shape)\n",
    "# (2, 2)\n",
    "uncorrelated = np.random.standard_normal((num_variables, num_samples))\n",
    "correlated = np.dot(L, uncorrelated) + np.array(mean).reshape(2, 1)\n",
    "# print(correlated.shape)\n",
    "# (2, 1000)\n",
    "plt.scatter(correlated[0, :], correlated[1, :], c='green')\n",
    "plt.show()\n",
    "\n",
    "#print(correlated[0, :])\n",
    "#print(correlated[1, :])\n",
    "print('min IQ', min(correlated[0, :]))\n",
    "print('max IQ', max(correlated[0, :]))"
   ]
  },
  {
   "cell_type": "markdown",
   "metadata": {},
   "source": [
    "On closer observation there is a flaw to this method for the purpose of this project. While correlated and having the correct mean value, the range isn't wide enough to accomodate a realistic model. Above, IQ values only stretch between 98.29 and 101.84 because the function does not take the std into account. Lacking the mathematical understanding to adapt the above formula to accomodate for the standard deviation, below is a simpler way to require the desired output. \n",
    "\n",
    "Using the 'numpy.random' package, an infinite loop was created which will generate random dataframes, until the desired correlation has been generated:"
   ]
  },
  {
   "cell_type": "code",
   "execution_count": 157,
   "metadata": {
    "collapsed": true
   },
   "outputs": [
    {
     "name": "stdout",
     "output_type": "stream",
     "text": [
      "0.23096855248906725\n",
      "[60331]\n",
      "     IQ  Height\n",
      "0    90     175\n",
      "1    94     172\n",
      "2    95     182\n",
      "3   120     180\n",
      "4   134     178\n",
      "5   103     170\n",
      "6   101     183\n",
      "7   117     182\n",
      "8    85     177\n",
      "9    90     173\n",
      "10  112     171\n",
      "11   79     166\n",
      "12   95     186\n",
      "13   92     184\n",
      "14  111     185\n",
      "15   95     181\n",
      "16  114     189\n",
      "17  103     186\n",
      "18  103     165\n",
      "19  108     178\n",
      "20   90     179\n",
      "21  108     184\n",
      "22  121     178\n",
      "23   80     177\n",
      "24  125     175\n",
      "25   63     170\n",
      "26   97     175\n",
      "27  135     175\n",
      "28  100     175\n",
      "29  103     178\n",
      "..  ...     ...\n",
      "70   79     177\n",
      "71  106     180\n",
      "72   93     166\n",
      "73   83     165\n",
      "74  123     185\n",
      "75  113     197\n",
      "76   89     175\n",
      "77  122     187\n",
      "78   85     173\n",
      "79  123     178\n",
      "80   89     194\n",
      "81  106     174\n",
      "82  110     192\n",
      "83   90     174\n",
      "84  101     178\n",
      "85   58     171\n",
      "86   95     176\n",
      "87  102     169\n",
      "88   97     164\n",
      "89   87     179\n",
      "90   86     179\n",
      "91   97     171\n",
      "92   91     181\n",
      "93  102     186\n",
      "94   84     169\n",
      "95   85     171\n",
      "96   81     171\n",
      "97  109     183\n",
      "98  122     172\n",
      "99   77     178\n",
      "\n",
      "[100 rows x 2 columns]\n"
     ]
    },
    {
     "data": {
      "text/plain": [
       "<matplotlib.axes._subplots.AxesSubplot at 0x2093a2ff0b8>"
      ]
     },
     "execution_count": 157,
     "metadata": {},
     "output_type": "execute_result"
    },
    {
     "data": {
      "image/png": "[encoded data removed]",
      "text/plain": [
       "<Figure size 432x288 with 1 Axes>"
      ]
     },
     "metadata": {
      "needs_background": "light"
     },
     "output_type": "display_data"
    }
   ],
   "source": [
    "#feed information to create the two distributions\n",
    "meanIQ, stdIQ = 100, 15\n",
    "meanH, stdH = 178, 7.5\n",
    "\n",
    "#seeding the generator\n",
    "np.random.seed(6)\n",
    "\n",
    "while 1 != 2: #infinite\n",
    "    #seed = np.random.randint(1,100000,1)\n",
    "    #np.random.seed(seed) #\n",
    "    IQ = norm.ppf(np.random.random(100), loc=meanIQ, scale=stdIQ).astype(int) #IQ distribution values\n",
    "    height = norm.ppf(np.random.random(100), loc=meanH, scale=stdH).astype(int) #Height distribution values\n",
    "    df = pd.DataFrame({'IQ':IQ,'Height':height}) #convert to pandas dataframe\n",
    "    x = df['IQ'].corr(df['Height']) #calculate correlation coefficient, https://stackoverflow.com/questions/42579908/use-corr-to-get-the-correlation-between-two-columns\n",
    "    if x > 0.2: #check if the generated samples meet a 0.2 correlation\n",
    "        break #if yes, exit loop\n",
    "    else:\n",
    "        continue\n",
    "        \n",
    "print(x)\n",
    "print(seed)\n",
    "#seed = 41838\n",
    "print(df)\n",
    "\n",
    "sb.scatterplot(x='IQ', y='Height', data=df)\n",
    "    \n",
    "    "
   ]
  },
  {
   "cell_type": "code",
   "execution_count": 1,
   "metadata": {},
   "outputs": [
    {
     "name": "stdout",
     "output_type": "stream",
     "text": [
      "    gender  height   IQ  Age\n",
      "0        1     183  103   57\n",
      "1        0     159   89   40\n",
      "2        0     157  111   58\n",
      "3        1     177  103   33\n",
      "4        1     174   91   37\n",
      "5        0     166   81   21\n",
      "6        0     157   98   27\n",
      "7        1     174   98   59\n",
      "8        1     185   99   48\n",
      "9        1     180  116   86\n",
      "10       0     170   91   21\n",
      "11       0     174   87   69\n",
      "12       0     168   97   65\n",
      "13       0     157   86   61\n",
      "14       0     164   99   51\n",
      "15       1     177   72   21\n",
      "16       0     161   88   34\n",
      "17       0     166   70   73\n",
      "18       1     185   95   16\n",
      "19       1     181  113   75\n",
      "20       1     169  116   59\n",
      "21       0     166  103   47\n",
      "22       1     166   91   34\n",
      "23       1     171   89   89\n",
      "24       1     188  104   72\n",
      "25       1     176  103   22\n",
      "26       0     156  110   75\n",
      "27       0     165  109   58\n",
      "28       1     170   92   16\n",
      "29       0     165  112   32\n",
      "..     ...     ...  ...  ...\n",
      "70       1     179  112   61\n",
      "71       0     155   91   22\n",
      "72       1     166   73   29\n",
      "73       0     164  113   50\n",
      "74       0     162   94   21\n",
      "75       0     159  116   53\n",
      "76       1     164   88   42\n",
      "77       1     180  120   43\n",
      "78       1     169  115   72\n",
      "79       0     149   86   22\n",
      "80       0     159  100   56\n",
      "81       1     174   94   26\n",
      "82       0     157  122   22\n",
      "83       1     166   86   33\n",
      "84       0     167   73   28\n",
      "85       1     176   85   53\n",
      "86       1     172   82   32\n",
      "87       1     178  112   35\n",
      "88       0     159   85   18\n",
      "89       0     169  124   75\n",
      "90       0     162   90   32\n",
      "91       0     164   94   36\n",
      "92       0     174   95   47\n",
      "93       0     160   87   36\n",
      "94       0     158   88   36\n",
      "95       1     193  128   33\n",
      "96       0     164   86   27\n",
      "97       0     175  108   53\n",
      "98       1     191  120   25\n",
      "99       1     182   83   39\n",
      "\n",
      "[100 rows x 4 columns]\n"
     ]
    }
   ],
   "source": [
    "import numpy as np\n",
    "import matplotlib.pyplot as plt\n",
    "import pandas as pd\n",
    "from scipy.stats import norm\n",
    "import seaborn as sb\n",
    "\n",
    "#seeding the generator\n",
    "np.random.seed(6)\n",
    "#giving choices for gender and adding mean and std for gender heights\n",
    "g= [1,0]\n",
    "meanHM, meanHF, stdHM, stdHF = 178, 163, 7.5, 6\n",
    "meanIQ, stdIQ = 100, 15\n",
    "\n",
    "#create gender distribution\n",
    "gender = np.random.choice(g,100)\n",
    "\n",
    "#convert numpy array to pandas dataframe\n",
    "GG = pd.DataFrame({'gender':gender})\n",
    "\n",
    "#define a function to match appropriate height samples to gender\n",
    "def fx(x):\n",
    "    if x == 1:\n",
    "        return norm.ppf(np.random.random(1), loc=meanHM, scale=stdHM).astype(int)\n",
    "    elif x == 0:\n",
    "        return norm.ppf(np.random.random(1), loc=meanHF, scale=stdHF).astype(int)\n",
    "\n",
    "#use above function on GG dataframe to append second column height\n",
    "GG['height'] = GG['gender'].apply(fx) #https://stackoverflow.com/questions/34962104/pandas-how-can-i-use-the-apply-function-for-a-single-column\n",
    "GG['height'] = GG['height'].str.get(0) #https://stackoverflow.com/questions/38147447/how-to-remove-square-bracket-from-pandas-dataframe\n",
    "\n",
    "\n",
    "#print(GG)\n",
    "#sb.scatterplot(data=GG, x='height', y='gender')\n",
    "#GG.describe()\n",
    "\n",
    "#use above code to match correlated IQ\n",
    "while 1 != 2: #infinite\n",
    "    #seed = np.random.randint(1,100000,1)\n",
    "    #np.random.seed(seed) #\n",
    "    IQ = norm.ppf(np.random.random(100), loc=meanIQ, scale=stdIQ).astype(int) #IQ distribution values\n",
    "    #height = norm.ppf(np.random.random(100), loc=meanH, scale=stdH).astype(int) #Height distribution values\n",
    "    df = pd.DataFrame({'IQ':IQ}) #convert to pandas dataframe\n",
    "    ds = pd.concat([GG, df], axis=1) #https://stackoverflow.com/questions/20602947/append-column-to-pandas-dataframe\n",
    "    x = ds['IQ'].corr(ds['height']) #calculate correlation coefficient, https://stackoverflow.com/questions/42579908/use-corr-to-get-the-correlation-between-two-columns\n",
    "    if x > 0.2: #check if the generated samples meet a 0.2 correlation\n",
    "        break #if yes, exit loop\n",
    "    else:\n",
    "        continue\n",
    "i = 1\n",
    "p = 100\n",
    "listage = []\n",
    "\n",
    "while len(listage) < 100:\n",
    "    agebrackets = [np.random.randint(0,14), np.random.randint(15,24), np.random.randint(25,54), np.random.randint(55,64), np.random.randint(65,90)]\n",
    "    agedist = np.random.choice(agebrackets, p=[0.215, 0.12, 0.43, 0.105, 0.13])\n",
    "    if agedist >= 0 and agedist <= 14:\n",
    "        continue\n",
    "    else:\n",
    "        listage.append(agedist) #excluding children from the dataset\n",
    "        dflist = pd.DataFrame({'Age': listage})\n",
    "        finalDataset = pd.concat([ds, dflist], axis =1)\n",
    "        \n",
    "        \n",
    "print(finalDataset)\n",
    "\n",
    "#sb.scatterplot(x='IQ', y='height', data=ds)"
   ]
  },
  {
   "cell_type": "code",
   "execution_count": 2,
   "metadata": {},
   "outputs": [
    {
     "name": "stdout",
     "output_type": "stream",
     "text": [
      "   gender  height   IQ  Age\n",
      "0       1     183  103   57\n",
      "1       0     159   89   40\n",
      "2       0     157  111   58\n",
      "3       1     177  103   33\n",
      "4       1     174   91   37\n",
      "    gender  height   IQ  Age\n",
      "95       1     193  128   33\n",
      "96       0     164   86   27\n",
      "97       0     175  108   53\n",
      "98       1     191  120   25\n",
      "99       1     182   83   39\n"
     ]
    }
   ],
   "source": [
    "#exploring the dataset / sensecheck\n",
    "\n",
    "print(finalDataset.head())\n",
    "print(finalDataset.tail())"
   ]
  },
  {
   "cell_type": "code",
   "execution_count": 3,
   "metadata": {},
   "outputs": [
    {
     "data": {
      "text/html": [
       "<div>\n",
       "<style scoped>\n",
       "    .dataframe tbody tr th:only-of-type {\n",
       "        vertical-align: middle;\n",
       "    }\n",
       "\n",
       "    .dataframe tbody tr th {\n",
       "        vertical-align: top;\n",
       "    }\n",
       "\n",
       "    .dataframe thead th {\n",
       "        text-align: right;\n",
       "    }\n",
       "</style>\n",
       "<table border=\"1\" class=\"dataframe\">\n",
       "  <thead>\n",
       "    <tr style=\"text-align: right;\">\n",
       "      <th></th>\n",
       "      <th>gender</th>\n",
       "      <th>height</th>\n",
       "      <th>IQ</th>\n",
       "      <th>Age</th>\n",
       "    </tr>\n",
       "  </thead>\n",
       "  <tbody>\n",
       "    <tr>\n",
       "      <th>count</th>\n",
       "      <td>100.000000</td>\n",
       "      <td>100.000000</td>\n",
       "      <td>100.000000</td>\n",
       "      <td>100.000000</td>\n",
       "    </tr>\n",
       "    <tr>\n",
       "      <th>mean</th>\n",
       "      <td>0.460000</td>\n",
       "      <td>168.890000</td>\n",
       "      <td>98.610000</td>\n",
       "      <td>43.010000</td>\n",
       "    </tr>\n",
       "    <tr>\n",
       "      <th>std</th>\n",
       "      <td>0.500908</td>\n",
       "      <td>9.736835</td>\n",
       "      <td>13.824948</td>\n",
       "      <td>18.618713</td>\n",
       "    </tr>\n",
       "    <tr>\n",
       "      <th>min</th>\n",
       "      <td>0.000000</td>\n",
       "      <td>149.000000</td>\n",
       "      <td>70.000000</td>\n",
       "      <td>15.000000</td>\n",
       "    </tr>\n",
       "    <tr>\n",
       "      <th>25%</th>\n",
       "      <td>0.000000</td>\n",
       "      <td>163.000000</td>\n",
       "      <td>88.000000</td>\n",
       "      <td>27.750000</td>\n",
       "    </tr>\n",
       "    <tr>\n",
       "      <th>50%</th>\n",
       "      <td>0.000000</td>\n",
       "      <td>166.500000</td>\n",
       "      <td>98.000000</td>\n",
       "      <td>41.000000</td>\n",
       "    </tr>\n",
       "    <tr>\n",
       "      <th>75%</th>\n",
       "      <td>1.000000</td>\n",
       "      <td>176.000000</td>\n",
       "      <td>109.250000</td>\n",
       "      <td>56.250000</td>\n",
       "    </tr>\n",
       "    <tr>\n",
       "      <th>max</th>\n",
       "      <td>1.000000</td>\n",
       "      <td>193.000000</td>\n",
       "      <td>128.000000</td>\n",
       "      <td>89.000000</td>\n",
       "    </tr>\n",
       "  </tbody>\n",
       "</table>\n",
       "</div>"
      ],
      "text/plain": [
       "           gender      height          IQ         Age\n",
       "count  100.000000  100.000000  100.000000  100.000000\n",
       "mean     0.460000  168.890000   98.610000   43.010000\n",
       "std      0.500908    9.736835   13.824948   18.618713\n",
       "min      0.000000  149.000000   70.000000   15.000000\n",
       "25%      0.000000  163.000000   88.000000   27.750000\n",
       "50%      0.000000  166.500000   98.000000   41.000000\n",
       "75%      1.000000  176.000000  109.250000   56.250000\n",
       "max      1.000000  193.000000  128.000000   89.000000"
      ]
     },
     "execution_count": 3,
     "metadata": {},
     "output_type": "execute_result"
    }
   ],
   "source": [
    "finalDataset.describe()"
   ]
  },
  {
   "cell_type": "code",
   "execution_count": 4,
   "metadata": {},
   "outputs": [
    {
     "data": {
      "text/html": [
       "<div>\n",
       "<style scoped>\n",
       "    .dataframe tbody tr th:only-of-type {\n",
       "        vertical-align: middle;\n",
       "    }\n",
       "\n",
       "    .dataframe tbody tr th {\n",
       "        vertical-align: top;\n",
       "    }\n",
       "\n",
       "    .dataframe thead th {\n",
       "        text-align: right;\n",
       "    }\n",
       "</style>\n",
       "<table border=\"1\" class=\"dataframe\">\n",
       "  <thead>\n",
       "    <tr style=\"text-align: right;\">\n",
       "      <th></th>\n",
       "      <th>gender</th>\n",
       "      <th>height</th>\n",
       "      <th>IQ</th>\n",
       "      <th>Age</th>\n",
       "    </tr>\n",
       "  </thead>\n",
       "  <tbody>\n",
       "    <tr>\n",
       "      <th>gender</th>\n",
       "      <td>1.000000</td>\n",
       "      <td>0.724989</td>\n",
       "      <td>0.151609</td>\n",
       "      <td>0.014665</td>\n",
       "    </tr>\n",
       "    <tr>\n",
       "      <th>height</th>\n",
       "      <td>0.724989</td>\n",
       "      <td>1.000000</td>\n",
       "      <td>0.254283</td>\n",
       "      <td>0.081633</td>\n",
       "    </tr>\n",
       "    <tr>\n",
       "      <th>IQ</th>\n",
       "      <td>0.151609</td>\n",
       "      <td>0.254283</td>\n",
       "      <td>1.000000</td>\n",
       "      <td>0.126728</td>\n",
       "    </tr>\n",
       "    <tr>\n",
       "      <th>Age</th>\n",
       "      <td>0.014665</td>\n",
       "      <td>0.081633</td>\n",
       "      <td>0.126728</td>\n",
       "      <td>1.000000</td>\n",
       "    </tr>\n",
       "  </tbody>\n",
       "</table>\n",
       "</div>"
      ],
      "text/plain": [
       "          gender    height        IQ       Age\n",
       "gender  1.000000  0.724989  0.151609  0.014665\n",
       "height  0.724989  1.000000  0.254283  0.081633\n",
       "IQ      0.151609  0.254283  1.000000  0.126728\n",
       "Age     0.014665  0.081633  0.126728  1.000000"
      ]
     },
     "execution_count": 4,
     "metadata": {},
     "output_type": "execute_result"
    }
   ],
   "source": [
    "finalDataset.corr()"
   ]
  },
  {
   "cell_type": "code",
   "execution_count": 9,
   "metadata": {},
   "outputs": [
    {
     "name": "stdout",
     "output_type": "stream",
     "text": [
      "       gender      height          IQ        Age\n",
      "count    46.0   46.000000   46.000000  46.000000\n",
      "mean      1.0  176.500000  100.869565  43.304348\n",
      "std       0.0    7.667391   14.051665  19.097259\n",
      "min       1.0  164.000000   72.000000  15.000000\n",
      "25%       1.0  171.000000   91.000000  28.250000\n",
      "50%       1.0  177.000000  103.000000  40.500000\n",
      "75%       1.0  182.750000  112.000000  52.500000\n",
      "max       1.0  193.000000  128.000000  89.000000\n",
      "       gender      height          IQ        Age\n",
      "count    54.0   54.000000   54.000000  54.000000\n",
      "mean      0.0  162.407407   96.685185  42.759259\n",
      "std       0.0    5.839096   13.459687  18.377524\n",
      "min       0.0  149.000000   70.000000  16.000000\n",
      "25%       0.0  159.000000   87.250000  27.000000\n",
      "50%       0.0  163.000000   95.000000  42.500000\n",
      "75%       0.0  166.000000  107.750000  56.750000\n",
      "max       0.0  175.000000  128.000000  79.000000\n"
     ]
    }
   ],
   "source": [
    "import matplotlib.pyplot as plt\n",
    "\n",
    "male = finalDataset[finalDataset['gender']== 1]\n",
    "female = finalDataset[finalDataset['gender']== 0]\n",
    "\n",
    "print(male.describe())\n",
    "print(female.describe())"
   ]
  },
  {
   "cell_type": "code",
   "execution_count": 10,
   "metadata": {},
   "outputs": [
    {
     "data": {
      "text/plain": [
       "<matplotlib.axes._subplots.AxesSubplot at 0x291b9828860>"
      ]
     },
     "execution_count": 10,
     "metadata": {},
     "output_type": "execute_result"
    },
    {
     "data": {
      "image/png": "[encoded data removed]",
      "text/plain": [
       "<Figure size 432x288 with 1 Axes>"
      ]
     },
     "metadata": {
      "needs_background": "light"
     },
     "output_type": "display_data"
    }
   ],
   "source": [
    "sb.boxplot(data = finalDataset, orient = 'h')"
   ]
  },
  {
   "cell_type": "code",
   "execution_count": 11,
   "metadata": {},
   "outputs": [
    {
     "data": {
      "text/plain": [
       "<matplotlib.axes._subplots.AxesSubplot at 0x291b98252e8>"
      ]
     },
     "execution_count": 11,
     "metadata": {},
     "output_type": "execute_result"
    },
    {
     "data": {
      "image/png": "[encoded data removed]",
      "text/plain": [
       "<Figure size 432x288 with 1 Axes>"
      ]
     },
     "metadata": {
      "needs_background": "light"
     },
     "output_type": "display_data"
    }
   ],
   "source": [
    "sb.swarmplot(x='gender', y='IQ', data=finalDataset)"
   ]
  },
  {
   "cell_type": "code",
   "execution_count": 2,
   "metadata": {},
   "outputs": [
    {
     "data": {
      "text/plain": [
       "<matplotlib.axes._subplots.AxesSubplot at 0x256dd0c6f28>"
      ]
     },
     "execution_count": 2,
     "metadata": {},
     "output_type": "execute_result"
    },
    {
     "data": {
      "image/png": "[encoded data removed]",
      "text/plain": [
       "<Figure size 432x288 with 1 Axes>"
      ]
     },
     "metadata": {
      "needs_background": "light"
     },
     "output_type": "display_data"
    }
   ],
   "source": [
    "sb.swarmplot(x='IQ', y='height', hue = 'gender', data=finalDataset)"
   ]
  },
  {
   "cell_type": "code",
   "execution_count": 5,
   "metadata": {},
   "outputs": [
    {
     "name": "stderr",
     "output_type": "stream",
     "text": [
      "C:\\Users\\sarah\\Anaconda3\\lib\\site-packages\\scipy\\stats\\stats.py:1713: FutureWarning: Using a non-tuple sequence for multidimensional indexing is deprecated; use `arr[tuple(seq)]` instead of `arr[seq]`. In the future this will be interpreted as an array index, `arr[np.array(seq)]`, which will result either in an error or a different result.\n",
      "  return np.add.reduce(sorted[indexer] * weights, axis=axis) / sumval\n"
     ]
    },
    {
     "data": {
      "text/plain": [
       "<seaborn.axisgrid.JointGrid at 0x256e319ef60>"
      ]
     },
     "execution_count": 5,
     "metadata": {},
     "output_type": "execute_result"
    },
    {
     "data": {
      "image/png": "[encoded data removed]",
      "text/plain": [
       "<Figure size 432x432 with 3 Axes>"
      ]
     },
     "metadata": {
      "needs_background": "light"
     },
     "output_type": "display_data"
    }
   ],
   "source": [
    "sb.jointplot(x='IQ', y='height', data=finalDataset, kind = 'reg') "
   ]
  }
 ],
 "metadata": {
  "kernelspec": {
   "display_name": "Python 3",
   "language": "python",
   "name": "python3"
  },
  "language_info": {
   "codemirror_mode": {
    "name": "ipython",
    "version": 3
   },
   "file_extension": ".py",
   "mimetype": "text/x-python",
   "name": "python",
   "nbconvert_exporter": "python",
   "pygments_lexer": "ipython3",
   "version": "3.7.0"
  }
 },
 "nbformat": 4,
 "nbformat_minor": 2
}
