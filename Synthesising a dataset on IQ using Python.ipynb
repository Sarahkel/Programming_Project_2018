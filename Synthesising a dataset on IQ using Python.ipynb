{
 "cells": [
  {
   "cell_type": "markdown",
   "metadata": {},
   "source": [
    "# Table of contents\n",
    "\n",
    "\n",
    "- [1. Introduction](#1)\n",
    "\n",
    "    - [1.1 General Considerations](#11)\n",
    "\n",
    "    - [1.2 Overview](#12)\n",
    "\n",
    "- [2. Real-life Phenomenon: IQ Score](#2)\n",
    "\n",
    "    - [2.1 The Variables](#21)\n",
    "\n",
    "    - [2.1.1 IQ](#211)\n",
    "\n",
    "    - [2.1.2 Age](#212)\n",
    "\n",
    "    - [2.1.3 Gender](#213)\n",
    "\n",
    "    - [2.1.4 Height](#214)\n",
    "    \n",
    "- [3. Combining the variables](#3)\n",
    "\n",
    "    - [3.1 Correlating values](#31)\n",
    "    \n",
    "- [4. Sense-check of the generated dataset](#4)\n",
    "\n",
    "- [5. Summary](#5)\n",
    "\n",
    "- [6. Conclusion](#6)"
   ]
  },
  {
   "cell_type": "markdown",
   "metadata": {},
   "source": [
    "# 1. Introduction <a class=\"anchor\" id=\"1\"></a>\n",
    "\n",
    "In this Jupyter workbook I will walk through the process of synthesising a dataset using Python. The dataset will aim to simulate a real-world phenomenon across at least 100 different datapoints and at least 4 different variables. The challenge lies not only in understanding how to use Python and available packages to synthesise a dataset but also in gaining an understanding of the data this project aims to simulate.\n",
    "\n",
    "The variables for which the datapoints are created will be investigated to determine their type and likely distributions and also how they relate to one-another to ensure a product that is close to the real-life phenomenon.\n",
    "\n",
    "## 1.1 General Considerations <a class=\"anchor\" id=\"11\"></a>\n",
    "\n",
    "One might ask: Why synthesise a dataset if I can simply go online to find data? \n",
    "\n",
    "A fairly straight-forward way to simulate a dataset could be to take an existing dataset, analyse its statistics and use the data on values, minimum, maximum, average, median, correlations and regressions to feed into a function that will either create the exact same dataset or randomise the dataset along the same base statistics.\n",
    "\n",
    "However, researching different approaches on how to synthesise data brings forward many sources that are related to machine learning, deep learning and testing calculations as well as applications. Synthesised data can be used to test or develop applications in situations where collection of real data would delay development because of the time and resources it would require.(1) It is not difficult to imagine such a situation in a corporate environment. Furthermore, it can serve as a basis to train a machine learning algorithm on.\n",
    "\n",
    "Therefore, this project will attempt to model a dataset not recreating a specific already existing dataset but after assumptions and insights that were derived from researching the real-life-phenomenon\n",
    "\n",
    "#### References\n",
    "\n",
    "(1) https://medium.com/@maxbendick/synthesizing-deep-learning-training-data-db100de1b7f0\n",
    "\n",
    "## 1.2 Overview <a class=\"anchor\" id=\"12\"></a>\n",
    "\n",
    "This project aims to synthesise a dataset around IQ score. It aims to create a dataset of 100 datapoints, corresponding to 100 people across the variables: IQ, Gender, Age and Height.\n",
    "\n",
    "# 2. Real-life phenomenon: IQ Score <a class=\"anchor\" id=\"2\"></a>\n",
    "\n",
    "IQ, Intelligence Quotient, lends itself fabulously to an exploration for a data scientist. It is a well-researched area, with a lot of studies to draw inspiration as well as data from. The name itself suggests its mathematical nature and statistics plays a significant role in the field of psychology. \n",
    "\n",
    "IQ is not the same as intelligence, even though a point can be made that both are closely correlated. While intelligence has multiple definitions, mostly centered around ones ability to use logic and reasoning, while the IQ of a person is the result they scored at a specific point in time and cannot be assigned without an IQ test. (1) There is no one IQ test and the tests conducted can vary depending on the underlying definition of intelligence, which has sparked discussions around the validity of the tests. (2) While certainly an interesting field of study, this project is does not aim to discuss the validity of IQ but is more concerned with the scores and how studies have suggested correlations with other areas of life.\n",
    "\n",
    "#### References\n",
    "\n",
    "(1) Introduction to Clinical Psychology, Jeffrey Hecker, Geoffrey Thorpe, 2005, p.210\n",
    "\n",
    "(2) Psychology: A Very Short Introduction, Gillian Butler, Freda McManus, 1998, chapter 7\n",
    "\n",
    "\n",
    "## 2.1 The Variables <a class=\"anchor\" id=\"21\"></a>\n",
    "\n",
    "A big part of the appeal of determining people's IQ score is to see if it stands in relation to other attributes of a person's life. Researchers have found a number of interesting connections, [this article](https://www.vox.com/2016/5/24/11723182/iq-test-intelligence) displays only some of them. For example:\n",
    "\n",
    "> Having a higher IQ protects you from death\n",
    "\n",
    "> IQ is correlated with career success and wealth, but not necessarily happiness\n",
    "\n",
    "> Most people have average intelligence\n",
    "\n",
    "Considering the vast amount of information around IQ it seems tangible to model a realistic dataset of 100 people around their IQ score. Python has in-built commands and available packages that allow to quickly produce random numbers. See also my previous assignment on the functionalities of the numpy.random package. The following is a quick demonstration of how these functions can be used to create a dataset:"
   ]
  },
  {
   "cell_type": "code",
   "execution_count": 1,
   "metadata": {},
   "outputs": [
    {
     "name": "stdout",
     "output_type": "stream",
     "text": [
      "      IQ  Age  Income Gender\n",
      "0    128   88   35992      w\n",
      "1     69   23   40538      m\n",
      "2     79   76   31787      m\n",
      "3    145   21   24198      m\n",
      "4     67   14   29861      m\n",
      "5     94   31   40531      w\n",
      "6    114   68   43628      m\n",
      "7     77    8   32097      w\n",
      "8    129   84   15007      m\n",
      "9    142   64   16981      m\n",
      "10   129   44   51441      m\n",
      "11    89    5   48927      m\n",
      "12   141   11   26529      m\n",
      "13   126   83   48011      m\n",
      "14   108   22   43406      w\n",
      "15    85   64   34765      m\n",
      "16    94   57   31367      w\n",
      "17   124   71   48847      m\n",
      "18    93   88   54442      w\n",
      "19   115   41   32708      m\n",
      "20    78   46   38458      m\n",
      "21    82    8   25965      m\n",
      "22   119   51   29570      w\n",
      "23   100   42   36424      m\n",
      "24   149   67   53978      w\n",
      "25   135    9   39469      m\n",
      "26    79   35   28888      w\n",
      "27    68   86   48912      m\n",
      "28   123   39   38407      w\n",
      "29    88   73   49355      w\n",
      "..   ...  ...     ...    ...\n",
      "970  109   45   41263      w\n",
      "971  121   59   29049      w\n",
      "972   98   74   39416      m\n",
      "973   78    9   31583      w\n",
      "974  149   21   37554      m\n",
      "975  106   39   21978      w\n",
      "976   82   71   47725      m\n",
      "977  139   56   30013      m\n",
      "978  112   58   48604      m\n",
      "979   97   54   24585      m\n",
      "980   93   35   21674      w\n",
      "981  118   27   36996      w\n",
      "982  129   38   32109      m\n",
      "983   79   76   18502      w\n",
      "984  133   32   38527      w\n",
      "985  114   86   25860      m\n",
      "986   76   37   19052      m\n",
      "987   85   70   54933      w\n",
      "988  102   49   37183      m\n",
      "989   78   88   28671      w\n",
      "990  127    7   23806      m\n",
      "991   72   86   52578      m\n",
      "992   76    7   25839      m\n",
      "993   85   79   34669      w\n",
      "994  131   65   37325      m\n",
      "995   71   63   45597      w\n",
      "996   95   16   24952      w\n",
      "997   92    8   19853      w\n",
      "998   83   48   40265      w\n",
      "999  142   11   19322      m\n",
      "\n",
      "[1000 rows x 4 columns]\n"
     ]
    },
    {
     "data": {
      "text/html": [
       "<div>\n",
       "<style scoped>\n",
       "    .dataframe tbody tr th:only-of-type {\n",
       "        vertical-align: middle;\n",
       "    }\n",
       "\n",
       "    .dataframe tbody tr th {\n",
       "        vertical-align: top;\n",
       "    }\n",
       "\n",
       "    .dataframe thead th {\n",
       "        text-align: right;\n",
       "    }\n",
       "</style>\n",
       "<table border=\"1\" class=\"dataframe\">\n",
       "  <thead>\n",
       "    <tr style=\"text-align: right;\">\n",
       "      <th></th>\n",
       "      <th>IQ</th>\n",
       "      <th>Age</th>\n",
       "      <th>Income</th>\n",
       "    </tr>\n",
       "  </thead>\n",
       "  <tbody>\n",
       "    <tr>\n",
       "      <th>IQ</th>\n",
       "      <td>1.000000</td>\n",
       "      <td>0.008405</td>\n",
       "      <td>0.016513</td>\n",
       "    </tr>\n",
       "    <tr>\n",
       "      <th>Age</th>\n",
       "      <td>0.008405</td>\n",
       "      <td>1.000000</td>\n",
       "      <td>0.041166</td>\n",
       "    </tr>\n",
       "    <tr>\n",
       "      <th>Income</th>\n",
       "      <td>0.016513</td>\n",
       "      <td>0.041166</td>\n",
       "      <td>1.000000</td>\n",
       "    </tr>\n",
       "  </tbody>\n",
       "</table>\n",
       "</div>"
      ],
      "text/plain": [
       "              IQ       Age    Income\n",
       "IQ      1.000000  0.008405  0.016513\n",
       "Age     0.008405  1.000000  0.041166\n",
       "Income  0.016513  0.041166  1.000000"
      ]
     },
     "execution_count": 1,
     "metadata": {},
     "output_type": "execute_result"
    }
   ],
   "source": [
    "#The following code uses numpy and pandas to generate random values that can be put and displayed as a pandas dataframe\n",
    "import pandas as pd\n",
    "import numpy as np\n",
    "\n",
    "#creating empty lists for the different columns\n",
    "listIQ = []\n",
    "listAge = []\n",
    "listIncome = []\n",
    "listGender = []\n",
    "\n",
    "#determining size of the dataset/lists -  - bigger to ensure distributions are well visible\n",
    "p = 1000\n",
    "\n",
    "#assuming IQ values can fall between 65 and 150 and appending the random value to the IQ list\n",
    "for i in range(p):\n",
    "    x = np.random.randint(65,150)\n",
    "    listIQ.append(x)\n",
    "\n",
    "#assuming an age range between which the IQ test could have been taken\n",
    "for i in range(p):\n",
    "    x = np.random.randint(5,90)\n",
    "    listAge.append(x)\n",
    "\n",
    "#assuming an income range\n",
    "for i in range(p):\n",
    "    x = np.random.randint(15000,55000)\n",
    "    listIncome.append(x)\n",
    "\n",
    "    #gender\n",
    "for i in range(p):\n",
    "    gender = ['m', 'w']\n",
    "    x = np.random.choice(gender)\n",
    "    listGender.append(x)\n",
    "\n",
    "#pull data together\n",
    "#see pandas documentation:\n",
    "#https://pandas.pydata.org/pandas-docs/version/0.23.4/generated/pandas.DataFrame.html\n",
    "d = {'IQ': listIQ, 'Age': listAge, 'Income': listIncome, 'Gender': listGender}\n",
    "df = pd.DataFrame(data=d)\n",
    "print(df)\n",
    "\n",
    "\n",
    "#showing correlation\n",
    "print(df.corr())"
   ]
  },
  {
   "cell_type": "markdown",
   "metadata": {},
   "source": [
    "However, a flaw with this method emerges: While it does reliably generate numbers within the specified limits, there is no consistency with real-world scenarios. The Correlations between the values can change dramatically and it is difficult to draw meaningful conclusions from the dataset. It is therefore unusable for realistic simulation purposes. A look at the graphs below explains why. \n",
    "\n",
    "As per the design of the commands in numpy, the samples were drawn from uniform distributions, meaning, that every outcome is equally likely to occur. While this is arguably acceptable for the variable of Gender in the dataset, it has been established that many natural phenomena, such as height and also IQ resemble a normal or Gaussian distribution."
   ]
  },
  {
   "cell_type": "code",
   "execution_count": 3,
   "metadata": {},
   "outputs": [
    {
     "data": {
      "image/png": "[encoded data removed]",
      "text/plain": [
       "<Figure size 432x288 with 1 Axes>"
      ]
     },
     "metadata": {
      "needs_background": "light"
     },
     "output_type": "display_data"
    },
    {
     "data": {
      "image/png": "[encoded data removed]",
      "text/plain": [
       "<Figure size 432x288 with 1 Axes>"
      ]
     },
     "metadata": {
      "needs_background": "light"
     },
     "output_type": "display_data"
    },
    {
     "data": {
      "image/png": "[encoded data removed]",
      "text/plain": [
       "<Figure size 432x288 with 1 Axes>"
      ]
     },
     "metadata": {
      "needs_background": "light"
     },
     "output_type": "display_data"
    },
    {
     "data": {
      "image/png": "[encoded data removed]",
      "text/plain": [
       "<Figure size 432x288 with 1 Axes>"
      ]
     },
     "metadata": {
      "needs_background": "light"
     },
     "output_type": "display_data"
    }
   ],
   "source": [
    "import matplotlib.pyplot as plt\n",
    "\n",
    "plt.hist(listIQ)\n",
    "plt.xlabel('\"IQ\"')\n",
    "plt.ylabel('No. of Samples')\n",
    "plt.title('Histogram of samples drawn from numpy.random.randint')\n",
    "plt.show()\n",
    "plt.hist(listGender)\n",
    "plt.xlabel('\"Gender\"')\n",
    "plt.ylabel('No. of Samples')\n",
    "plt.title('Histogram of samples drawn from numpy.random.randint')\n",
    "plt.show()\n",
    "plt.hist(listIncome)\n",
    "plt.xlabel('\"Income\"')\n",
    "plt.ylabel('No. of Samples')\n",
    "plt.title('Histogram of samples drawn from numpy.random.randint')\n",
    "plt.show()\n",
    "plt.hist(listAge)\n",
    "plt.xlabel('\"Age\"')\n",
    "plt.ylabel('No. of Samples')\n",
    "plt.title('Histogram of samples drawn from numpy.random.randint')\n",
    "plt.show()"
   ]
  },
  {
   "cell_type": "markdown",
   "metadata": {},
   "source": [
    "### 2.1.1 IQ <a class=\"anchor\" id=\"211\"></a>\n",
    "\n",
    "Compare the above graph for IQ to the \"bell curve\" below that is characteristic of a normal distribition. IQ approximates a normal distribution across a population. The median of the IQ distribution is 100 with a standard deviation of 15 and the possible scores fall between 40 and 160. (1) An IQ scale is ordinal data, meaning that the datapoints can be ranked and are naturally ordered (f.ex. from low IQ to high IQ) (2). Looking at this distribution, we can see that the majority of people will fall around the median or average IQ scores.\n",
    "\n",
    "<img src=\"https://upload.wikimedia.org/wikipedia/commons/thumb/3/39/IQ_distribution.svg/2000px-IQ_distribution.svg.png\" width=\"420\">\n",
    "Normalized IQ distribution with mean 100 and standard deviation 15 (1).\n",
    "\n",
    "#### References\n",
    "\n",
    "(1) https://en.wikipedia.org/wiki/Intelligence_quotient\n",
    "\n",
    "(2) https://en.wikipedia.org/wiki/Ordinal_data"
   ]
  },
  {
   "cell_type": "code",
   "execution_count": 5,
   "metadata": {},
   "outputs": [
    {
     "data": {
      "image/png": "[encoded data removed]",
      "text/plain": [
       "<Figure size 432x288 with 1 Axes>"
      ]
     },
     "metadata": {
      "needs_background": "light"
     },
     "output_type": "display_data"
    }
   ],
   "source": [
    "#using numpy.random to generate data modelled after the IQ distribution\n",
    "\n",
    "import numpy as np\n",
    "import matplotlib.pyplot as plt\n",
    "import pandas as pd\n",
    "from scipy.stats import norm\n",
    "np.random.seed(32)\n",
    "\n",
    "#https://docs.scipy.org/doc/numpy/reference/generated/numpy.random.normal.html#numpy.random.normal\n",
    "mean, std = 100, 15\n",
    "#https://stackoverflow.com/questions/33160367/numpy-how-to-generate-a-normally-distributed-set-of-integers\n",
    "#used above to ensure only integers are drawn\n",
    "IQ = norm.ppf(np.random.random(1000), loc=mean, scale=std).astype(int) #using high samplesize (1000) to ensure clear outcome, rounding results to create integers\n",
    "plt.hist(IQ, 30) #determining bins\n",
    "#formatting the plot\n",
    "plt.axvline(IQ.mean(), color='r', linewidth=1) #https://stackoverflow.com/questions/16180946/drawing-average-line-in-histogram-matplotlib\n",
    "plt.xlabel('IQ')\n",
    "plt.ylabel('No. of Samples')\n",
    "plt.title('Distribution of IQ', color='g', fontsize=20)\n",
    "plt.show()"
   ]
  },
  {
   "cell_type": "markdown",
   "metadata": {},
   "source": [
    "### 2.1.2 Age <a class=\"anchor\" id=\"212\"></a>\n",
    "\n",
    "The distribution of age looks very different again. Age, as is IQ, is ordinal data which can be naturally ranked from low to high. As can be seen in the pyramid chart below however, it does not clearly follow any distribution for which `numpy.random` provides a handy function for. Instead, the percentage breakdown of indexmundi can be used in conjunction with the `numpy.random.choice` function, which allows to draw weighted samples from a list. Find below a code which replicates the agebrackets by using the percentages assigned to them on indexmundi.\n",
    "\n",
    "\n",
    "<img src=\"https://www.indexmundi.com/graphs/population-pyramids/ireland-population-pyramid-2016.gif\" width=\"420\">\n",
    "Population pyramid, Ireland 2016 (3)\n",
    "\n",
    "(3) https://www.indexmundi.com/ireland/age_structure.html"
   ]
  },
  {
   "cell_type": "code",
   "execution_count": 6,
   "metadata": {},
   "outputs": [
    {
     "data": {
      "text/plain": [
       "(array([209.,   0., 118.,   0.,   0., 428.,   0., 117.,   0., 128.]),\n",
       " array([0. , 0.4, 0.8, 1.2, 1.6, 2. , 2.4, 2.8, 3.2, 3.6, 4. ]),\n",
       " <a list of 10 Patch objects>)"
      ]
     },
     "execution_count": 6,
     "metadata": {},
     "output_type": "execute_result"
    },
    {
     "data": {
      "image/png": "[encoded data removed]",
      "text/plain": [
       "<Figure size 432x288 with 1 Axes>"
      ]
     },
     "metadata": {
      "needs_background": "light"
     },
     "output_type": "display_data"
    }
   ],
   "source": [
    "#Attempt to recreate an age distribution\n",
    "\n",
    "#import packages\n",
    "import numpy as np\n",
    "import matplotlib.pyplot as plt\n",
    "import pandas as pd\n",
    "import seaborn as sb\n",
    "np.random.seed(32)\n",
    "\n",
    "#replicate agebrackets from source:\n",
    "#https://www.indexmundi.com/ireland/age_structure.html\n",
    "\n",
    "agebrackets = ['0-14', '15-24', '25-54', '55-64', '65+']\n",
    "agedist = np.random.choice(agebrackets, 1000, p=[0.215, 0.12, 0.43, 0.105, 0.13]) #draw samples with the percentages used as probabilities\n",
    "agedist.sort() #ensure bins do not show in random order\n",
    "plt.hist(agedist)"
   ]
  },
  {
   "cell_type": "code",
   "execution_count": 3,
   "metadata": {},
   "outputs": [
    {
     "data": {
      "image/png": "[encoded data removed]",
      "text/plain": [
       "<Figure size 432x288 with 1 Axes>"
      ]
     },
     "metadata": {
      "needs_background": "light"
     },
     "output_type": "display_data"
    }
   ],
   "source": [
    "#in order to be able to better analyze it take it out of brackets\n",
    "import numpy as np\n",
    "import matplotlib.pyplot as plt\n",
    "import pandas as pd\n",
    "from scipy.stats import norm\n",
    "import seaborn as sb\n",
    "np.random.seed(32)\n",
    "\n",
    "i=1\n",
    "p=1000\n",
    "listage=[]\n",
    "\n",
    "\n",
    "for i in range(p):\n",
    "    agebrackets = [np.random.randint(0,14), np.random.randint(15,24), np.random.randint(25,54), np.random.randint(55,64), np.random.randint(65,90)]\n",
    "    agedist = np.random.choice(agebrackets, p=[0.215, 0.12, 0.43, 0.105, 0.13])\n",
    "    listage.append(agedist)\n",
    "\n",
    "\n",
    "plt.hist(listage, bins = 50)\n",
    "plt.show()"
   ]
  },
  {
   "cell_type": "markdown",
   "metadata": {},
   "source": [
    "### 2.1.3 Gender <a class=\"anchor\" id=\"213\"></a>\n",
    "\n",
    "As the gender distribution is close to 50/50, it is fair to let the random module make its pick. While often a heated discussion, latest data suggests that men and women show no significant difference in IQ scores overall. (1)\n",
    "\n",
    "#### References\n",
    "\n",
    "(1) https://www.psychologytoday.com/us/blog/beautiful-minds/201207/men-women-and-iq-setting-the-record-straight\n"
   ]
  },
  {
   "cell_type": "code",
   "execution_count": 10,
   "metadata": {},
   "outputs": [
    {
     "data": {
      "image/png": "[encoded data removed]",
      "text/plain": [
       "<Figure size 432x288 with 1 Axes>"
      ]
     },
     "metadata": {
      "needs_background": "light"
     },
     "output_type": "display_data"
    }
   ],
   "source": [
    "import numpy as np\n",
    "import matplotlib.pyplot as plt\n",
    "import pandas as pd\n",
    "import seaborn as sb\n",
    "np.random.seed(32)\n",
    "\n",
    "values = ['m', 'w']\n",
    "gender = np.random.choice(values,1000)\n",
    "\n",
    "plt.hist(gender)\n",
    "plt.show()"
   ]
  },
  {
   "cell_type": "markdown",
   "metadata": {},
   "source": [
    "### 2.1.4 Height <a class=\"anchor\" id=\"214\"></a>\n",
    "\n",
    "Height, similar to IQ, tends to be described by a bell-curve approximating a normal distribution. We learn from Wikipedia that the average height of men is 177cm with a std of ca. 7.6cm. (1) (2) With this, the same code as above can be used to generate samplesa round the mean and std.\n",
    "\n",
    "\n",
    "#### References\n",
    "\n",
    "(1) https://en.wikipedia.org/wiki/List_of_average_human_height_worldwide\n",
    "\n",
    "(2) https://en.wikipedia.org/wiki/Standard_deviation#Standard_deviation_of_average_height_for_adult_men\n",
    "\n"
   ]
  },
  {
   "cell_type": "code",
   "execution_count": 11,
   "metadata": {
    "collapsed": true
   },
   "outputs": [
    {
     "data": {
      "image/png": "[encoded data removed]",
      "text/plain": [
       "<Figure size 432x288 with 1 Axes>"
      ]
     },
     "metadata": {
      "needs_background": "light"
     },
     "output_type": "display_data"
    }
   ],
   "source": [
    "import numpy as np\n",
    "import matplotlib.pyplot as plt\n",
    "import pandas as pd\n",
    "from scipy.stats import norm\n",
    "np.random.seed(32)\n",
    "\n",
    "#https://docs.scipy.org/doc/numpy/reference/generated/numpy.random.normal.html#numpy.random.normal\n",
    "mean, std = 177, 7.6 #standard deviation approximated from https://en.wikipedia.org/wiki/Standard_deviation\n",
    "#https://stackoverflow.com/questions/33160367/numpy-how-to-generate-a-normally-distributed-set-of-integers\n",
    "#used above to ensure only integers are drawn\n",
    "height = norm.ppf(np.random.random(1000), loc=mean, scale=std).astype(int) #using high samplesize to ensure clear outcome, rounding results to create integers\n",
    "plt.hist(height, 30) #determining bins\n",
    "#formatting the plot\n",
    "plt.axvline(height.mean(), color='r', linewidth=1) #https://stackoverflow.com/questions/16180946/drawing-average-line-in-histogram-matplotlib\n",
    "plt.xlabel('height')\n",
    "plt.ylabel('No. of Samples')\n",
    "plt.title('Distribution of height', color='g', fontsize=20)\n",
    "plt.show()"
   ]
  },
  {
   "cell_type": "markdown",
   "metadata": {},
   "source": [
    "# 3. Combining the Variables <a class=\"anchor\" id=\"3\"></a>\n",
    "\n",
    "The different variables and their distributions were discussed above. If combining them into a DataFrame the result will look something like below:"
   ]
  },
  {
   "cell_type": "code",
   "execution_count": 3,
   "metadata": {
    "scrolled": true
   },
   "outputs": [
    {
     "name": "stdout",
     "output_type": "stream",
     "text": [
      "      IQ  Age  Gender  Height\n",
      "0    116    7       0     183\n",
      "1     95    7       1     181\n",
      "2    102   45       0     180\n",
      "3    125   11       0     176\n",
      "4    109   50       0     182\n",
      "5    113   43       0     178\n",
      "6     80   70       0     182\n",
      "7    121   39       1     175\n",
      "8    104   22       1     182\n",
      "9    103   26       0     180\n",
      "10    80   10       1     174\n",
      "11    94   25       1     172\n",
      "12   106   45       0     182\n",
      "13    97   26       1     187\n",
      "14   101   69       0     171\n",
      "15   108   47       0     166\n",
      "16   103   21       1     171\n",
      "17    75   60       0     171\n",
      "18   102   63       0     171\n",
      "19   110   84       0     169\n",
      "20   120   48       1     166\n",
      "21    80    8       0     174\n",
      "22   119   31       0     184\n",
      "23    98   43       0     172\n",
      "24    98   15       1     181\n",
      "25   148   60       1     183\n",
      "26    85   57       0     169\n",
      "27   108   31       0     178\n",
      "28    85   23       0     181\n",
      "29   113   43       1     179\n",
      "..   ...  ...     ...     ...\n",
      "970  125   20       1     184\n",
      "971   91   48       1     178\n",
      "972   88   33       1     188\n",
      "973  103    7       1     179\n",
      "974  122   23       1     167\n",
      "975  106   75       0     196\n",
      "976  107   28       1     184\n",
      "977  120    1       0     191\n",
      "978   80   43       1     173\n",
      "979  108   60       1     184\n",
      "980   94   27       1     175\n",
      "981  110    6       1     184\n",
      "982  113   37       0     166\n",
      "983  117   10       0     178\n",
      "984   98   31       1     172\n",
      "985  100   48       0     180\n",
      "986   89   34       1     187\n",
      "987  109   55       1     172\n",
      "988  102   27       0     169\n",
      "989  111   27       0     174\n",
      "990  101   33       0     168\n",
      "991   51   17       1     177\n",
      "992   83   44       1     197\n",
      "993  121   75       1     185\n",
      "994   96    4       0     162\n",
      "995   80   34       0     185\n",
      "996   79   73       1     162\n",
      "997  102    5       1     175\n",
      "998   98   50       0     181\n",
      "999  134   40       1     180\n",
      "\n",
      "[1000 rows x 4 columns]\n"
     ]
    }
   ],
   "source": [
    "#summary\n",
    "import numpy as np\n",
    "import matplotlib.pyplot as plt\n",
    "import pandas as pd\n",
    "from scipy.stats import norm\n",
    "import seaborn as sb\n",
    "np.random.seed(32)\n",
    "\n",
    "mean, std = 100, 15\n",
    "IQ = norm.ppf(np.random.random(1000), loc=mean, scale=std).astype(int) \n",
    "\n",
    "mean, std = 178, 7.5\n",
    "height = norm.ppf(np.random.random(1000), loc=mean, scale=std).astype(int)\n",
    "\n",
    "\n",
    "#agebrackets = ['0-14', '15-24', '25-54', '55-64', '65+']\n",
    "#agedist = np.random.choice(agebrackets, 1000, p=[0.215, 0.12, 0.43, 0.105, 0.13])\n",
    "i=1\n",
    "p=1000\n",
    "listage=[]\n",
    "\n",
    "\n",
    "for i in range(p):\n",
    "    agebrackets = [np.random.randint(0,14), np.random.randint(15,24), np.random.randint(25,54), np.random.randint(55,64), np.random.randint(65,90)]\n",
    "    agedist = np.random.choice(agebrackets, p=[0.215, 0.12, 0.43, 0.105, 0.13])\n",
    "    listage.append(agedist)\n",
    "\n",
    "values = [0, 1] #0=men, 1=women, easier to calculate\n",
    "gender = np.random.choice(values,1000)\n",
    "\n",
    "#print(IQ)\n",
    "#print(agedist)\n",
    "#print(gender)\n",
    "\n",
    "\n",
    "#Pulling data into one dataframe\n",
    "#Source: https://stackoverflow.com/questions/20763012/creating-a-pandas-dataframe-from-a-numpy-array-how-do-i-specify-the-index-colum\n",
    "dataset = pd.DataFrame({'IQ':IQ,'Age':listage, 'Gender':gender, 'Height':height})\n",
    "print(dataset)\n"
   ]
  },
  {
   "cell_type": "code",
   "execution_count": 4,
   "metadata": {},
   "outputs": [
    {
     "data": {
      "image/png": "[encoded data removed]",
      "text/plain": [
       "<Figure size 432x288 with 1 Axes>"
      ]
     },
     "metadata": {
      "needs_background": "light"
     },
     "output_type": "display_data"
    }
   ],
   "source": [
    "#visualising the dataset\n",
    "import numpy as np\n",
    "import matplotlib.pyplot as plt\n",
    "import pandas as pd\n",
    "from scipy.stats import norm\n",
    "import seaborn as sb\n",
    "np.random.seed(32)\n",
    "\n",
    "dataset.plot(kind='box')\n",
    "plt.show()"
   ]
  },
  {
   "cell_type": "code",
   "execution_count": 5,
   "metadata": {},
   "outputs": [
    {
     "ename": "NameError",
     "evalue": "name 'IQ' is not defined",
     "output_type": "error",
     "traceback": [
      "\u001b[1;31m---------------------------------------------------------------------------\u001b[0m",
      "\u001b[1;31mNameError\u001b[0m                                 Traceback (most recent call last)",
      "\u001b[1;32m<ipython-input-5-22ca14d1a85e>\u001b[0m in \u001b[0;36m<module>\u001b[1;34m()\u001b[0m\n\u001b[0;32m      1\u001b[0m \u001b[1;31m#a look at the distributions generated\u001b[0m\u001b[1;33m\u001b[0m\u001b[1;33m\u001b[0m\u001b[0m\n\u001b[1;32m----> 2\u001b[1;33m \u001b[0mdswogender\u001b[0m \u001b[1;33m=\u001b[0m \u001b[0mpd\u001b[0m\u001b[1;33m.\u001b[0m\u001b[0mDataFrame\u001b[0m\u001b[1;33m(\u001b[0m\u001b[1;33m{\u001b[0m\u001b[1;34m'IQ'\u001b[0m\u001b[1;33m:\u001b[0m\u001b[0mIQ\u001b[0m\u001b[1;33m,\u001b[0m\u001b[1;34m'Age'\u001b[0m\u001b[1;33m:\u001b[0m\u001b[0mlistage\u001b[0m\u001b[1;33m,\u001b[0m\u001b[1;34m'Height'\u001b[0m\u001b[1;33m:\u001b[0m\u001b[0mheight\u001b[0m\u001b[1;33m}\u001b[0m\u001b[1;33m)\u001b[0m\u001b[1;33m\u001b[0m\u001b[0m\n\u001b[0m\u001b[0;32m      3\u001b[0m \u001b[0mdswogender\u001b[0m\u001b[1;33m.\u001b[0m\u001b[0mplot\u001b[0m\u001b[1;33m(\u001b[0m\u001b[0mkind\u001b[0m\u001b[1;33m=\u001b[0m\u001b[1;34m'hist'\u001b[0m\u001b[1;33m)\u001b[0m\u001b[1;33m\u001b[0m\u001b[0m\n\u001b[0;32m      4\u001b[0m \u001b[0mplt\u001b[0m\u001b[1;33m.\u001b[0m\u001b[0mshow\u001b[0m\u001b[1;33m(\u001b[0m\u001b[1;33m)\u001b[0m\u001b[1;33m\u001b[0m\u001b[0m\n",
      "\u001b[1;31mNameError\u001b[0m: name 'IQ' is not defined"
     ]
    }
   ],
   "source": [
    "#a look at the distributions generated\n",
    "dswogender = pd.DataFrame({'IQ':IQ,'Age':listage,'Height':height})\n",
    "dswogender.plot(kind='hist')\n",
    "plt.show()"
   ]
  },
  {
   "cell_type": "code",
   "execution_count": 6,
   "metadata": {},
   "outputs": [
    {
     "data": {
      "text/html": [
       "<div>\n",
       "<style scoped>\n",
       "    .dataframe tbody tr th:only-of-type {\n",
       "        vertical-align: middle;\n",
       "    }\n",
       "\n",
       "    .dataframe tbody tr th {\n",
       "        vertical-align: top;\n",
       "    }\n",
       "\n",
       "    .dataframe thead th {\n",
       "        text-align: right;\n",
       "    }\n",
       "</style>\n",
       "<table border=\"1\" class=\"dataframe\">\n",
       "  <thead>\n",
       "    <tr style=\"text-align: right;\">\n",
       "      <th></th>\n",
       "      <th>IQ</th>\n",
       "      <th>Age</th>\n",
       "      <th>Gender</th>\n",
       "      <th>Height</th>\n",
       "    </tr>\n",
       "  </thead>\n",
       "  <tbody>\n",
       "    <tr>\n",
       "      <th>IQ</th>\n",
       "      <td>1.000000</td>\n",
       "      <td>0.034704</td>\n",
       "      <td>0.053821</td>\n",
       "      <td>-0.024692</td>\n",
       "    </tr>\n",
       "    <tr>\n",
       "      <th>Age</th>\n",
       "      <td>0.034704</td>\n",
       "      <td>1.000000</td>\n",
       "      <td>0.004902</td>\n",
       "      <td>-0.016682</td>\n",
       "    </tr>\n",
       "    <tr>\n",
       "      <th>Gender</th>\n",
       "      <td>0.053821</td>\n",
       "      <td>0.004902</td>\n",
       "      <td>1.000000</td>\n",
       "      <td>0.010765</td>\n",
       "    </tr>\n",
       "    <tr>\n",
       "      <th>Height</th>\n",
       "      <td>-0.024692</td>\n",
       "      <td>-0.016682</td>\n",
       "      <td>0.010765</td>\n",
       "      <td>1.000000</td>\n",
       "    </tr>\n",
       "  </tbody>\n",
       "</table>\n",
       "</div>"
      ],
      "text/plain": [
       "              IQ       Age    Gender    Height\n",
       "IQ      1.000000  0.034704  0.053821 -0.024692\n",
       "Age     0.034704  1.000000  0.004902 -0.016682\n",
       "Gender  0.053821  0.004902  1.000000  0.010765\n",
       "Height -0.024692 -0.016682  0.010765  1.000000"
      ]
     },
     "execution_count": 6,
     "metadata": {},
     "output_type": "execute_result"
    }
   ],
   "source": [
    "#correlation\n",
    "dataset.corr()"
   ]
  },
  {
   "cell_type": "markdown",
   "metadata": {},
   "source": [
    "## 3.1 Correlating values <a class=\"anchor\" id=\"31\"></a>\n",
    "\n",
    "Above dataset is already looking a lot better than the previous one. The variables it contains are sampled from distributions that apprximate the distributions these variables have in the real-world. Every variable in itself now displays more realistic values in terms of its mean and standard deviation, as opposed to the first example where all variables were drawn from a uniform distribution. However, it does not approximate a real dataset since the variables do not have the same relationships and dependencies one would expect when looking into research on IQ correlations.\n",
    "\n",
    "Rsearch has shown, that height and IQ are consistently, albeit modestly, correlated. (1) The different genders also have different height averages, which would need to be considered. In a knock-on effect, it needs to be made sure that height correctly correlated to IQ, while matching the gender-specific values. (2) Age however, has no significant impact on IQ. A study has shown that people who did very well in an IQ test as a teenager tended to do equally well at age 90. (3)\n",
    "\n",
    "The following is an overview of the discussed characteristics and how this project aims to synthesise them: \n",
    "\n",
    "| Variable          | Distribution expected | Data Type  | Type    | Relationship              |\n",
    "| -------------     |:--------        -----:| ----     -:| ----  -:| ----                    -:|\n",
    "| **IQ**            | Normal distribution   | Ordinal    | Integer | Correlation to Height     |\n",
    "| **Gender**        | Binomial distrbution  | Nominal    | Integer | Correlation to Height     |\n",
    "| **Height**        | Normal distribution   | Ratio      | Integer | Correlation to IQ, Gender |\n",
    "| **Age**           | custom, see above     | Ratio      | Integer | No correlations           |\n",
    "\n",
    "\n",
    "The `numpy.random` module offers a function to generate correlated values, such as `np.random.multivariate_normal` and one can find several approaches online on how to translate correlation into code. One example from user 'unutbu' on Stackoverflow can be seen below. While it is easy to get the correlation values from a dataset through commands such as '.corr()' and '.describe()' it is not as easy to reverse-engineer these operations without a solid knowledge of mathematics and/or statistics.\n",
    "\n",
    "The first example below shows how to generate correlated values, the correlation can be nicely observed in the attached scatterplot. It can be seen, how as one value increases, the other tends to increase as well.\n",
    "\n",
    "#### References\n",
    "\n",
    "(1) https://www.ncbi.nlm.nih.gov/pmc/articles/PMC3617178/\n",
    "\n",
    "(2) https://en.wikipedia.org/wiki/List_of_average_human_height_worldwide\n",
    "\n",
    "(3) https://www.vox.com/2016/5/24/11723182/iq-test-intelligence"
   ]
  },
  {
   "cell_type": "code",
   "execution_count": 20,
   "metadata": {},
   "outputs": [
    {
     "data": {
      "image/png": "[encoded data removed]",
      "text/plain": [
       "<Figure size 432x288 with 1 Axes>"
      ]
     },
     "metadata": {
      "needs_background": "light"
     },
     "output_type": "display_data"
    },
    {
     "name": "stdout",
     "output_type": "stream",
     "text": [
      "min IQ 98.29108366771166\n",
      "max IQ 101.84238123963631\n"
     ]
    }
   ],
   "source": [
    "#correlating values of IQ and Height\n",
    "mean = 100, 178 #IQ, Height\n",
    "\n",
    "#Adapted from: https://stackoverflow.com/questions/16024677/generate-correlated-data-in-python-3-3/16025584#16025584\n",
    "import numpy as np\n",
    "import matplotlib.pyplot as plt\n",
    "np.random.seed(32)\n",
    "linalg = np.linalg\n",
    "\n",
    "num_samples = 1000\n",
    "num_variables = 2\n",
    "cov = [[0.3, 0.2], [0.2, 0.2]]\n",
    "\n",
    "L = linalg.cholesky(cov)\n",
    "uncorrelated = np.random.standard_normal((num_variables, num_samples))\n",
    "correlated = np.dot(L, uncorrelated) + np.array(mean).reshape(2,1)\n",
    "# print(correlated.shape)\n",
    "# (2, 1000)\n",
    "plt.scatter(correlated[0, :], correlated[1, :], c='green')\n",
    "plt.show()\n",
    "\n",
    "print('min IQ', min(correlated[0, :]))\n",
    "print('max IQ', max(correlated[0, :]))"
   ]
  },
  {
   "cell_type": "markdown",
   "metadata": {},
   "source": [
    "On closer observation there is a flaw to this method for the purpose of this project. While correlated and having the correct mean value, the range isn't wide enough to accomodate a realistic model. Above, IQ values only stretch between 98.29 and 101.84 because the function does not take the std into account. Lacking the mathematical understanding to adapt the above formula to accomodate for the standard deviation, below is a simpler way to get the desired output. \n",
    "\n",
    "Using the `numpy.random` package, an infinite loop was created which will generate random dataframes, until the desired correlation has been generated (note however, the larger the dataset is supposed to be, the computation may take long):"
   ]
  },
  {
   "cell_type": "code",
   "execution_count": 25,
   "metadata": {},
   "outputs": [
    {
     "name": "stdout",
     "output_type": "stream",
     "text": [
      "Correlation: 0.23096855248906725\n",
      "     IQ  Height\n",
      "0    90     175\n",
      "1    94     172\n",
      "2    95     182\n",
      "3   120     180\n",
      "4   134     178\n",
      "5   103     170\n",
      "6   101     183\n",
      "7   117     182\n",
      "8    85     177\n",
      "9    90     173\n",
      "10  112     171\n",
      "11   79     166\n",
      "12   95     186\n",
      "13   92     184\n",
      "14  111     185\n",
      "15   95     181\n",
      "16  114     189\n",
      "17  103     186\n",
      "18  103     165\n",
      "19  108     178\n",
      "20   90     179\n",
      "21  108     184\n",
      "22  121     178\n",
      "23   80     177\n",
      "24  125     175\n",
      "25   63     170\n",
      "26   97     175\n",
      "27  135     175\n",
      "28  100     175\n",
      "29  103     178\n",
      "..  ...     ...\n",
      "70   79     177\n",
      "71  106     180\n",
      "72   93     166\n",
      "73   83     165\n",
      "74  123     185\n",
      "75  113     197\n",
      "76   89     175\n",
      "77  122     187\n",
      "78   85     173\n",
      "79  123     178\n",
      "80   89     194\n",
      "81  106     174\n",
      "82  110     192\n",
      "83   90     174\n",
      "84  101     178\n",
      "85   58     171\n",
      "86   95     176\n",
      "87  102     169\n",
      "88   97     164\n",
      "89   87     179\n",
      "90   86     179\n",
      "91   97     171\n",
      "92   91     181\n",
      "93  102     186\n",
      "94   84     169\n",
      "95   85     171\n",
      "96   81     171\n",
      "97  109     183\n",
      "98  122     172\n",
      "99   77     178\n",
      "\n",
      "[100 rows x 2 columns]\n"
     ]
    },
    {
     "data": {
      "image/png": "[encoded data removed]",
      "text/plain": [
       "<Figure size 432x288 with 1 Axes>"
      ]
     },
     "metadata": {
      "needs_background": "light"
     },
     "output_type": "display_data"
    }
   ],
   "source": [
    "#feed information to create the two distributions\n",
    "meanIQ, stdIQ = 100, 15\n",
    "meanH, stdH = 178, 7.5\n",
    "\n",
    "#seeding the generator\n",
    "np.random.seed(6)\n",
    "\n",
    "while 1 != 2: #infinite\n",
    "    #seed = np.random.randint(1,100000,1)\n",
    "    #np.random.seed(seed) #\n",
    "    IQ = norm.ppf(np.random.random(100), loc=meanIQ, scale=stdIQ).astype(int) #IQ distribution values\n",
    "    height = norm.ppf(np.random.random(100), loc=meanH, scale=stdH).astype(int) #Height distribution values\n",
    "    df = pd.DataFrame({'IQ':IQ,'Height':height}) #convert to pandas dataframe\n",
    "    x = df['IQ'].corr(df['Height']) #calculate correlation coefficient, https://stackoverflow.com/questions/42579908/use-corr-to-get-the-correlation-between-two-columns\n",
    "    if x > 0.2: #check if the generated samples meet a 0.2 correlation\n",
    "        break #if yes, exit loop\n",
    "    else:\n",
    "        continue\n",
    "        \n",
    "print('Correlation:', x) #correlation coefficient\n",
    "print(df)\n",
    "\n",
    "sb.scatterplot(x='IQ', y='Height', data=df)\n",
    "plt.show()\n",
    "    "
   ]
  },
  {
   "cell_type": "markdown",
   "metadata": {},
   "source": [
    "The above generated a correlated dataframe between height and IQ. By inputting the standard deviations, the spread of the data models the real life more accurately. The scatterplot indicates the correlation. However, the correlation is modest. As discussed, gender seems to have no noteworthy correlation to IQ. Gender does however have a correlation to height. The below code does therefore incorporate an additional piece of code. \n",
    "\n",
    "Firstly, a random list of the gender is created. Then, an if statement pulls from either a normal distribution around the mean and std of male height or female height and adds the generated values into a second column. Then the same strategy as above is employed to randomly generate a third column, IQ, which matches in the desired correlation to the height column. Lastly, as IQ is fairly stable across age, the above generated age distribution is used and appended into a third column. The values are drawn randomly and children (ages 1-14) are filtered out before being attached."
   ]
  },
  {
   "cell_type": "code",
   "execution_count": 1,
   "metadata": {},
   "outputs": [
    {
     "name": "stdout",
     "output_type": "stream",
     "text": [
      "    gender  height   IQ  Age\n",
      "0        1     183  103   57\n",
      "1        0     159   89   40\n",
      "2        0     157  111   58\n",
      "3        1     177  103   33\n",
      "4        1     174   91   37\n",
      "5        0     166   81   21\n",
      "6        0     157   98   27\n",
      "7        1     174   98   59\n",
      "8        1     185   99   48\n",
      "9        1     180  116   86\n",
      "10       0     170   91   21\n",
      "11       0     174   87   69\n",
      "12       0     168   97   65\n",
      "13       0     157   86   61\n",
      "14       0     164   99   51\n",
      "15       1     177   72   21\n",
      "16       0     161   88   34\n",
      "17       0     166   70   73\n",
      "18       1     185   95   16\n",
      "19       1     181  113   75\n",
      "20       1     169  116   59\n",
      "21       0     166  103   47\n",
      "22       1     166   91   34\n",
      "23       1     171   89   89\n",
      "24       1     188  104   72\n",
      "25       1     176  103   22\n",
      "26       0     156  110   75\n",
      "27       0     165  109   58\n",
      "28       1     170   92   16\n",
      "29       0     165  112   32\n",
      "..     ...     ...  ...  ...\n",
      "70       1     179  112   61\n",
      "71       0     155   91   22\n",
      "72       1     166   73   29\n",
      "73       0     164  113   50\n",
      "74       0     162   94   21\n",
      "75       0     159  116   53\n",
      "76       1     164   88   42\n",
      "77       1     180  120   43\n",
      "78       1     169  115   72\n",
      "79       0     149   86   22\n",
      "80       0     159  100   56\n",
      "81       1     174   94   26\n",
      "82       0     157  122   22\n",
      "83       1     166   86   33\n",
      "84       0     167   73   28\n",
      "85       1     176   85   53\n",
      "86       1     172   82   32\n",
      "87       1     178  112   35\n",
      "88       0     159   85   18\n",
      "89       0     169  124   75\n",
      "90       0     162   90   32\n",
      "91       0     164   94   36\n",
      "92       0     174   95   47\n",
      "93       0     160   87   36\n",
      "94       0     158   88   36\n",
      "95       1     193  128   33\n",
      "96       0     164   86   27\n",
      "97       0     175  108   53\n",
      "98       1     191  120   25\n",
      "99       1     182   83   39\n",
      "\n",
      "[100 rows x 4 columns]\n"
     ]
    }
   ],
   "source": [
    "import numpy as np\n",
    "import matplotlib.pyplot as plt\n",
    "import pandas as pd\n",
    "from scipy.stats import norm\n",
    "import seaborn as sb\n",
    "\n",
    "#seeding the generator\n",
    "np.random.seed(6)\n",
    "#giving choices for gender and adding mean and std for gender heights\n",
    "g= [1,0]\n",
    "meanHM, meanHF, stdHM, stdHF = 178, 163, 7.5, 6\n",
    "meanIQ, stdIQ = 100, 15\n",
    "\n",
    "#create gender distribution\n",
    "gender = np.random.choice(g,100)\n",
    "\n",
    "#convert numpy array to pandas dataframe\n",
    "GG = pd.DataFrame({'gender':gender})\n",
    "\n",
    "#define a function to match appropriate height samples to gender\n",
    "def fx(x):\n",
    "    if x == 1:\n",
    "        return norm.ppf(np.random.random(1), loc=meanHM, scale=stdHM).astype(int)\n",
    "    elif x == 0:\n",
    "        return norm.ppf(np.random.random(1), loc=meanHF, scale=stdHF).astype(int)\n",
    "\n",
    "#use above function on GG dataframe to append second column height\n",
    "GG['height'] = GG['gender'].apply(fx) #https://stackoverflow.com/questions/34962104/pandas-how-can-i-use-the-apply-function-for-a-single-column\n",
    "GG['height'] = GG['height'].str.get(0) #https://stackoverflow.com/questions/38147447/how-to-remove-square-bracket-from-pandas-dataframe\n",
    "\n",
    "\n",
    "#print(GG)\n",
    "#sb.scatterplot(data=GG, x='height', y='gender')\n",
    "#GG.describe()\n",
    "\n",
    "#use above code to match correlated IQ\n",
    "while 1 != 2: #infinite\n",
    "    #seed = np.random.randint(1,100000,1)\n",
    "    #np.random.seed(seed) #\n",
    "    IQ = norm.ppf(np.random.random(100), loc=meanIQ, scale=stdIQ).astype(int) #IQ distribution values\n",
    "    #height = norm.ppf(np.random.random(100), loc=meanH, scale=stdH).astype(int) #Height distribution values\n",
    "    df = pd.DataFrame({'IQ':IQ}) #convert to pandas dataframe\n",
    "    ds = pd.concat([GG, df], axis=1) #https://stackoverflow.com/questions/20602947/append-column-to-pandas-dataframe\n",
    "    x = ds['IQ'].corr(ds['height']) #calculate correlation coefficient, https://stackoverflow.com/questions/42579908/use-corr-to-get-the-correlation-between-two-columns\n",
    "    if x > 0.2: #check if the generated samples meet a 0.2 correlation\n",
    "        break #if yes, exit loop\n",
    "    else:\n",
    "        continue\n",
    "i = 1\n",
    "p = 100\n",
    "listage = []\n",
    "\n",
    "while len(listage) < 100:\n",
    "    agebrackets = [np.random.randint(0,14), np.random.randint(15,24), np.random.randint(25,54), np.random.randint(55,64), np.random.randint(65,90)]\n",
    "    agedist = np.random.choice(agebrackets, p=[0.215, 0.12, 0.43, 0.105, 0.13])\n",
    "    if agedist >= 0 and agedist <= 14:\n",
    "        continue\n",
    "    else:\n",
    "        listage.append(agedist) #excluding children from the dataset\n",
    "        dflist = pd.DataFrame({'Age': listage})\n",
    "        finalDataset = pd.concat([ds, dflist], axis =1)\n",
    "        \n",
    "        \n",
    "print(finalDataset)\n",
    "\n",
    "#sb.scatterplot(x='IQ', y='height', data=ds)"
   ]
  },
  {
   "cell_type": "markdown",
   "metadata": {},
   "source": [
    "# 4. Sense-check of the generated dataset <a class=\"anchor\" id=\"4\"></a>"
   ]
  },
  {
   "cell_type": "code",
   "execution_count": 2,
   "metadata": {},
   "outputs": [
    {
     "name": "stdout",
     "output_type": "stream",
     "text": [
      "   gender  height   IQ  Age\n",
      "0       1     183  103   57\n",
      "1       0     159   89   40\n",
      "2       0     157  111   58\n",
      "3       1     177  103   33\n",
      "4       1     174   91   37\n",
      "    gender  height   IQ  Age\n",
      "95       1     193  128   33\n",
      "96       0     164   86   27\n",
      "97       0     175  108   53\n",
      "98       1     191  120   25\n",
      "99       1     182   83   39\n"
     ]
    }
   ],
   "source": [
    "#exploring the dataset / sensecheck\n",
    "\n",
    "print(finalDataset.head())\n",
    "print(finalDataset.tail())"
   ]
  },
  {
   "cell_type": "code",
   "execution_count": 3,
   "metadata": {},
   "outputs": [
    {
     "data": {
      "text/html": [
       "<div>\n",
       "<style scoped>\n",
       "    .dataframe tbody tr th:only-of-type {\n",
       "        vertical-align: middle;\n",
       "    }\n",
       "\n",
       "    .dataframe tbody tr th {\n",
       "        vertical-align: top;\n",
       "    }\n",
       "\n",
       "    .dataframe thead th {\n",
       "        text-align: right;\n",
       "    }\n",
       "</style>\n",
       "<table border=\"1\" class=\"dataframe\">\n",
       "  <thead>\n",
       "    <tr style=\"text-align: right;\">\n",
       "      <th></th>\n",
       "      <th>gender</th>\n",
       "      <th>height</th>\n",
       "      <th>IQ</th>\n",
       "      <th>Age</th>\n",
       "    </tr>\n",
       "  </thead>\n",
       "  <tbody>\n",
       "    <tr>\n",
       "      <th>count</th>\n",
       "      <td>100.000000</td>\n",
       "      <td>100.000000</td>\n",
       "      <td>100.000000</td>\n",
       "      <td>100.000000</td>\n",
       "    </tr>\n",
       "    <tr>\n",
       "      <th>mean</th>\n",
       "      <td>0.460000</td>\n",
       "      <td>168.890000</td>\n",
       "      <td>98.610000</td>\n",
       "      <td>43.010000</td>\n",
       "    </tr>\n",
       "    <tr>\n",
       "      <th>std</th>\n",
       "      <td>0.500908</td>\n",
       "      <td>9.736835</td>\n",
       "      <td>13.824948</td>\n",
       "      <td>18.618713</td>\n",
       "    </tr>\n",
       "    <tr>\n",
       "      <th>min</th>\n",
       "      <td>0.000000</td>\n",
       "      <td>149.000000</td>\n",
       "      <td>70.000000</td>\n",
       "      <td>15.000000</td>\n",
       "    </tr>\n",
       "    <tr>\n",
       "      <th>25%</th>\n",
       "      <td>0.000000</td>\n",
       "      <td>163.000000</td>\n",
       "      <td>88.000000</td>\n",
       "      <td>27.750000</td>\n",
       "    </tr>\n",
       "    <tr>\n",
       "      <th>50%</th>\n",
       "      <td>0.000000</td>\n",
       "      <td>166.500000</td>\n",
       "      <td>98.000000</td>\n",
       "      <td>41.000000</td>\n",
       "    </tr>\n",
       "    <tr>\n",
       "      <th>75%</th>\n",
       "      <td>1.000000</td>\n",
       "      <td>176.000000</td>\n",
       "      <td>109.250000</td>\n",
       "      <td>56.250000</td>\n",
       "    </tr>\n",
       "    <tr>\n",
       "      <th>max</th>\n",
       "      <td>1.000000</td>\n",
       "      <td>193.000000</td>\n",
       "      <td>128.000000</td>\n",
       "      <td>89.000000</td>\n",
       "    </tr>\n",
       "  </tbody>\n",
       "</table>\n",
       "</div>"
      ],
      "text/plain": [
       "           gender      height          IQ         Age\n",
       "count  100.000000  100.000000  100.000000  100.000000\n",
       "mean     0.460000  168.890000   98.610000   43.010000\n",
       "std      0.500908    9.736835   13.824948   18.618713\n",
       "min      0.000000  149.000000   70.000000   15.000000\n",
       "25%      0.000000  163.000000   88.000000   27.750000\n",
       "50%      0.000000  166.500000   98.000000   41.000000\n",
       "75%      1.000000  176.000000  109.250000   56.250000\n",
       "max      1.000000  193.000000  128.000000   89.000000"
      ]
     },
     "execution_count": 3,
     "metadata": {},
     "output_type": "execute_result"
    }
   ],
   "source": [
    "finalDataset.describe()"
   ]
  },
  {
   "cell_type": "code",
   "execution_count": 4,
   "metadata": {},
   "outputs": [
    {
     "data": {
      "text/html": [
       "<div>\n",
       "<style scoped>\n",
       "    .dataframe tbody tr th:only-of-type {\n",
       "        vertical-align: middle;\n",
       "    }\n",
       "\n",
       "    .dataframe tbody tr th {\n",
       "        vertical-align: top;\n",
       "    }\n",
       "\n",
       "    .dataframe thead th {\n",
       "        text-align: right;\n",
       "    }\n",
       "</style>\n",
       "<table border=\"1\" class=\"dataframe\">\n",
       "  <thead>\n",
       "    <tr style=\"text-align: right;\">\n",
       "      <th></th>\n",
       "      <th>gender</th>\n",
       "      <th>height</th>\n",
       "      <th>IQ</th>\n",
       "      <th>Age</th>\n",
       "    </tr>\n",
       "  </thead>\n",
       "  <tbody>\n",
       "    <tr>\n",
       "      <th>gender</th>\n",
       "      <td>1.000000</td>\n",
       "      <td>0.724989</td>\n",
       "      <td>0.151609</td>\n",
       "      <td>0.014665</td>\n",
       "    </tr>\n",
       "    <tr>\n",
       "      <th>height</th>\n",
       "      <td>0.724989</td>\n",
       "      <td>1.000000</td>\n",
       "      <td>0.254283</td>\n",
       "      <td>0.081633</td>\n",
       "    </tr>\n",
       "    <tr>\n",
       "      <th>IQ</th>\n",
       "      <td>0.151609</td>\n",
       "      <td>0.254283</td>\n",
       "      <td>1.000000</td>\n",
       "      <td>0.126728</td>\n",
       "    </tr>\n",
       "    <tr>\n",
       "      <th>Age</th>\n",
       "      <td>0.014665</td>\n",
       "      <td>0.081633</td>\n",
       "      <td>0.126728</td>\n",
       "      <td>1.000000</td>\n",
       "    </tr>\n",
       "  </tbody>\n",
       "</table>\n",
       "</div>"
      ],
      "text/plain": [
       "          gender    height        IQ       Age\n",
       "gender  1.000000  0.724989  0.151609  0.014665\n",
       "height  0.724989  1.000000  0.254283  0.081633\n",
       "IQ      0.151609  0.254283  1.000000  0.126728\n",
       "Age     0.014665  0.081633  0.126728  1.000000"
      ]
     },
     "execution_count": 4,
     "metadata": {},
     "output_type": "execute_result"
    }
   ],
   "source": [
    "finalDataset.corr()"
   ]
  },
  {
   "cell_type": "code",
   "execution_count": 9,
   "metadata": {},
   "outputs": [
    {
     "name": "stdout",
     "output_type": "stream",
     "text": [
      "       gender      height          IQ        Age\n",
      "count    46.0   46.000000   46.000000  46.000000\n",
      "mean      1.0  176.500000  100.869565  43.304348\n",
      "std       0.0    7.667391   14.051665  19.097259\n",
      "min       1.0  164.000000   72.000000  15.000000\n",
      "25%       1.0  171.000000   91.000000  28.250000\n",
      "50%       1.0  177.000000  103.000000  40.500000\n",
      "75%       1.0  182.750000  112.000000  52.500000\n",
      "max       1.0  193.000000  128.000000  89.000000\n",
      "       gender      height          IQ        Age\n",
      "count    54.0   54.000000   54.000000  54.000000\n",
      "mean      0.0  162.407407   96.685185  42.759259\n",
      "std       0.0    5.839096   13.459687  18.377524\n",
      "min       0.0  149.000000   70.000000  16.000000\n",
      "25%       0.0  159.000000   87.250000  27.000000\n",
      "50%       0.0  163.000000   95.000000  42.500000\n",
      "75%       0.0  166.000000  107.750000  56.750000\n",
      "max       0.0  175.000000  128.000000  79.000000\n"
     ]
    }
   ],
   "source": [
    "import matplotlib.pyplot as plt\n",
    "\n",
    "male = finalDataset[finalDataset['gender']== 1]\n",
    "female = finalDataset[finalDataset['gender']== 0]\n",
    "\n",
    "print(male.describe())\n",
    "print(female.describe())"
   ]
  },
  {
   "cell_type": "code",
   "execution_count": 10,
   "metadata": {},
   "outputs": [
    {
     "data": {
      "text/plain": [
       "<matplotlib.axes._subplots.AxesSubplot at 0x291b9828860>"
      ]
     },
     "execution_count": 10,
     "metadata": {},
     "output_type": "execute_result"
    },
    {
     "data": {
      "image/png": "[encoded data removed]",
      "text/plain": [
       "<Figure size 432x288 with 1 Axes>"
      ]
     },
     "metadata": {
      "needs_background": "light"
     },
     "output_type": "display_data"
    }
   ],
   "source": [
    "sb.boxplot(data = finalDataset, orient = 'h')"
   ]
  },
  {
   "cell_type": "code",
   "execution_count": 11,
   "metadata": {},
   "outputs": [
    {
     "data": {
      "text/plain": [
       "<matplotlib.axes._subplots.AxesSubplot at 0x291b98252e8>"
      ]
     },
     "execution_count": 11,
     "metadata": {},
     "output_type": "execute_result"
    },
    {
     "data": {
      "image/png": "[encoded data removed]",
      "text/plain": [
       "<Figure size 432x288 with 1 Axes>"
      ]
     },
     "metadata": {
      "needs_background": "light"
     },
     "output_type": "display_data"
    }
   ],
   "source": [
    "sb.swarmplot(x='gender', y='IQ', data=finalDataset)"
   ]
  },
  {
   "cell_type": "code",
   "execution_count": 2,
   "metadata": {},
   "outputs": [
    {
     "data": {
      "text/plain": [
       "<matplotlib.axes._subplots.AxesSubplot at 0x256dd0c6f28>"
      ]
     },
     "execution_count": 2,
     "metadata": {},
     "output_type": "execute_result"
    },
    {
     "data": {
      "image/png": "[encoded data removed]",
      "text/plain": [
       "<Figure size 432x288 with 1 Axes>"
      ]
     },
     "metadata": {
      "needs_background": "light"
     },
     "output_type": "display_data"
    }
   ],
   "source": [
    "sb.swarmplot(x='IQ', y='height', hue = 'gender', data=finalDataset)"
   ]
  },
  {
   "cell_type": "code",
   "execution_count": 5,
   "metadata": {},
   "outputs": [
    {
     "name": "stderr",
     "output_type": "stream",
     "text": [
      "C:\\Users\\sarah\\Anaconda3\\lib\\site-packages\\scipy\\stats\\stats.py:1713: FutureWarning: Using a non-tuple sequence for multidimensional indexing is deprecated; use `arr[tuple(seq)]` instead of `arr[seq]`. In the future this will be interpreted as an array index, `arr[np.array(seq)]`, which will result either in an error or a different result.\n",
      "  return np.add.reduce(sorted[indexer] * weights, axis=axis) / sumval\n"
     ]
    },
    {
     "data": {
      "text/plain": [
       "<seaborn.axisgrid.JointGrid at 0x256e319ef60>"
      ]
     },
     "execution_count": 5,
     "metadata": {},
     "output_type": "execute_result"
    },
    {
     "data": {
      "image/png": "[encoded data removed]",
      "text/plain": [
       "<Figure size 432x432 with 3 Axes>"
      ]
     },
     "metadata": {
      "needs_background": "light"
     },
     "output_type": "display_data"
    }
   ],
   "source": [
    "sb.jointplot(x='IQ', y='height', data=finalDataset, kind = 'reg') "
   ]
  },
  {
   "cell_type": "markdown",
   "metadata": {},
   "source": [
    "# 5. Summary <a class=\"anchor\" id=\"5\"></a>\n",
    "\n",
    "The introduction laid out the task that was hoped to be accomplished within this notebook, namely to generate a dataset with a 100 datapoints across 4 variables synthesising a real-life phenomenon. Following, an introduction to the subject matter IQ was given, followed by a line-up of the variables that were synthesised for this dataset: IQ, age, height and gender. The variables were explored both in regards to their distributions in the real world as well as their connection to the ancor of the dataset, IQ, and how data for this variable can be generated in Python. This was mostly focused around using different functions of the `numpy.random`module, such as `.choice`. It was outlined how simple sampling can quickly yield a desired amount of data, however, doesn't necessarily ensure that the data is close to a real-life dataset, because this method does not consider correlations between the different variables. After this, additional code was introduced to ensure the variables interact as would be expected in the dataset, namely with regards to the correlation between height and IQ, as well as gender and height. Finally, a sensecheck on the synthesised dataset followed that laid out the summary statistics and presented graphs to give a feel of the generated dataset. \n",
    "\n",
    "\n",
    "# 6. Conclusion <a class=\"anchor\" id=\"6\"></a>\n",
    "\n",
    "There are many approaches to generate a dataset, this approach focused generating random data in a structured way by knowing the desired outcome by using Python and more specifically the package numpy to generate random data and pandas to concatenate the generated data into a dataframe.\n",
    "\n",
    "Synthesising data can be very useful when trying to avoid working on sensitive data in a business environment, when gathering the necessary amount of data would be too cumbersome and time consuming and therefore too expensive, or to simply generate data for a machine learning algorithm to work on."
   ]
  },
  {
   "cell_type": "markdown",
   "metadata": {},
   "source": []
  }
 ],
 "metadata": {
  "kernelspec": {
   "display_name": "Python 3",
   "language": "python",
   "name": "python3"
  },
  "language_info": {
   "codemirror_mode": {
    "name": "ipython",
    "version": 3
   },
   "file_extension": ".py",
   "mimetype": "text/x-python",
   "name": "python",
   "nbconvert_exporter": "python",
   "pygments_lexer": "ipython3",
   "version": "3.7.0"
  }
 },
 "nbformat": 4,
 "nbformat_minor": 2
}
